{
  "nbformat": 4,
  "nbformat_minor": 0,
  "metadata": {
    "colab": {
      "name": "LSTM_Model.ipynb",
      "provenance": []
    },
    "kernelspec": {
      "name": "python3",
      "display_name": "Python 3"
    }
  },
  "cells": [
    {
      "cell_type": "markdown",
      "metadata": {
        "id": "FBuUqiRv6zmR",
        "colab_type": "text"
      },
      "source": [
        "Libraries used in this project"
      ]
    },
    {
      "cell_type": "code",
      "metadata": {
        "id": "3JxAmIPoqi_C",
        "colab_type": "code",
        "outputId": "2be5230a-d5ec-4d39-cac0-9a8b6d7fe692",
        "colab": {
          "base_uri": "https://localhost:8080/",
          "height": 131
        }
      },
      "source": [
        "import pandas as pd\n",
        "import re\n",
        "import nltk\n",
        "nltk.download('stopwords')\n",
        "from nltk.corpus import stopwords\n",
        "from sklearn.feature_extraction.text import CountVectorizer\n",
        "import spacy\n",
        "import matplotlib.pyplot as plt\n",
        "import seaborn as sns\n",
        "from keras.preprocessing.text import Tokenizer\n",
        "from keras.preprocessing.sequence import pad_sequences\n",
        "from keras.models import Sequential\n",
        "from keras.layers import Dense, Embedding, LSTM, SpatialDropout1D,Bidirectional\n",
        "from sklearn.model_selection import train_test_split\n",
        "from keras.utils.np_utils import to_categorical\n",
        "from keras.callbacks import EarlyStopping\n",
        "from keras.layers import Dropout\n",
        "import keras_metrics\n",
        "import re\n",
        "from nltk.corpus import stopwords\n",
        "from nltk import word_tokenize\n",
        "#STOPWORDS = set(stopwords.words('english'))\n",
        "from bs4 import BeautifulSoup\n",
        "import plotly.graph_objs as go\n",
        "import chart_studio.plotly as py\n",
        "import cufflinks\n",
        "from IPython.core.interactiveshell import InteractiveShell\n",
        "import plotly.figure_factory as ff\n",
        "InteractiveShell.ast_node_interactivity = 'all'\n",
        "from plotly.offline import iplot\n",
        "cufflinks.go_offline()\n",
        "cufflinks.set_config_file(world_readable=True, theme='pearl')"
      ],
      "execution_count": 2,
      "outputs": [
        {
          "output_type": "stream",
          "text": [
            "[nltk_data] Downloading package stopwords to /root/nltk_data...\n",
            "[nltk_data]   Unzipping corpora/stopwords.zip.\n"
          ],
          "name": "stdout"
        },
        {
          "output_type": "stream",
          "text": [
            "Using TensorFlow backend.\n"
          ],
          "name": "stderr"
        },
        {
          "output_type": "display_data",
          "data": {
            "text/html": [
              "<p style=\"color: red;\">\n",
              "The default version of TensorFlow in Colab will soon switch to TensorFlow 2.x.<br>\n",
              "We recommend you <a href=\"https://www.tensorflow.org/guide/migrate\" target=\"_blank\">upgrade</a> now \n",
              "or ensure your notebook will continue to use TensorFlow 1.x via the <code>%tensorflow_version 1.x</code> magic:\n",
              "<a href=\"https://colab.research.google.com/notebooks/tensorflow_version.ipynb\" target=\"_blank\">more info</a>.</p>\n"
            ],
            "text/plain": [
              "<IPython.core.display.HTML object>"
            ]
          },
          "metadata": {
            "tags": []
          }
        },
        {
          "output_type": "display_data",
          "data": {
            "text/html": [
              "        <script type=\"text/javascript\">\n",
              "        window.PlotlyConfig = {MathJaxConfig: 'local'};\n",
              "        if (window.MathJax) {MathJax.Hub.Config({SVG: {font: \"STIX-Web\"}});}\n",
              "        if (typeof require !== 'undefined') {\n",
              "        require.undef(\"plotly\");\n",
              "        requirejs.config({\n",
              "            paths: {\n",
              "                'plotly': ['https://cdn.plot.ly/plotly-latest.min']\n",
              "            }\n",
              "        });\n",
              "        require(['plotly'], function(Plotly) {\n",
              "            window._Plotly = Plotly;\n",
              "        });\n",
              "        }\n",
              "        </script>\n",
              "        "
            ]
          },
          "metadata": {
            "tags": []
          }
        }
      ]
    },
    {
      "cell_type": "markdown",
      "metadata": {
        "id": "wjQ7hCYJsiSh",
        "colab_type": "text"
      },
      "source": [
        ""
      ]
    },
    {
      "cell_type": "code",
      "metadata": {
        "id": "5t0ZUNr6f-Dd",
        "colab_type": "code",
        "outputId": "ee0f1d7c-ce2b-48db-a172-8d6e272ea368",
        "colab": {
          "base_uri": "https://localhost:8080/",
          "height": 241
        }
      },
      "source": [
        "!pip install keras_metrics"
      ],
      "execution_count": 1,
      "outputs": [
        {
          "output_type": "stream",
          "text": [
            "Collecting keras_metrics\n",
            "  Downloading https://files.pythonhosted.org/packages/32/c9/a87420da8e73de944e63a8e9cdcfb1f03ca31a7c4cdcdbd45d2cdf13275a/keras_metrics-1.1.0-py2.py3-none-any.whl\n",
            "Requirement already satisfied: Keras>=2.1.5 in /usr/local/lib/python3.6/dist-packages (from keras_metrics) (2.2.5)\n",
            "Requirement already satisfied: numpy>=1.9.1 in /usr/local/lib/python3.6/dist-packages (from Keras>=2.1.5->keras_metrics) (1.17.5)\n",
            "Requirement already satisfied: six>=1.9.0 in /usr/local/lib/python3.6/dist-packages (from Keras>=2.1.5->keras_metrics) (1.12.0)\n",
            "Requirement already satisfied: pyyaml in /usr/local/lib/python3.6/dist-packages (from Keras>=2.1.5->keras_metrics) (3.13)\n",
            "Requirement already satisfied: keras-applications>=1.0.8 in /usr/local/lib/python3.6/dist-packages (from Keras>=2.1.5->keras_metrics) (1.0.8)\n",
            "Requirement already satisfied: keras-preprocessing>=1.1.0 in /usr/local/lib/python3.6/dist-packages (from Keras>=2.1.5->keras_metrics) (1.1.0)\n",
            "Requirement already satisfied: scipy>=0.14 in /usr/local/lib/python3.6/dist-packages (from Keras>=2.1.5->keras_metrics) (1.4.1)\n",
            "Requirement already satisfied: h5py in /usr/local/lib/python3.6/dist-packages (from Keras>=2.1.5->keras_metrics) (2.8.0)\n",
            "Installing collected packages: keras-metrics\n",
            "Successfully installed keras-metrics-1.1.0\n"
          ],
          "name": "stdout"
        }
      ]
    },
    {
      "cell_type": "markdown",
      "metadata": {
        "id": "lMRIdnF3ErUV",
        "colab_type": "text"
      },
      "source": [
        "Loading the dataset\n"
      ]
    },
    {
      "cell_type": "code",
      "metadata": {
        "id": "9dL4vRnxsmAM",
        "colab_type": "code",
        "outputId": "e27380bb-ffef-4372-f9f5-da415b9e4eb9",
        "colab": {
          "base_uri": "https://localhost:8080/",
          "height": 419
        }
      },
      "source": [
        "olidData=pd.read_csv('training_data.tsv', sep='\\t')\n",
        "olidData.tail()\n",
        "olidData.text=olidData.text.astype(str)"
      ],
      "execution_count": 26,
      "outputs": [
        {
          "output_type": "execute_result",
          "data": {
            "text/html": [
              "<div>\n",
              "<style scoped>\n",
              "    .dataframe tbody tr th:only-of-type {\n",
              "        vertical-align: middle;\n",
              "    }\n",
              "\n",
              "    .dataframe tbody tr th {\n",
              "        vertical-align: top;\n",
              "    }\n",
              "\n",
              "    .dataframe thead th {\n",
              "        text-align: right;\n",
              "    }\n",
              "</style>\n",
              "<table border=\"1\" class=\"dataframe\">\n",
              "  <thead>\n",
              "    <tr style=\"text-align: right;\">\n",
              "      <th></th>\n",
              "      <th>id</th>\n",
              "      <th>text</th>\n",
              "      <th>actual_label</th>\n",
              "    </tr>\n",
              "  </thead>\n",
              "  <tbody>\n",
              "    <tr>\n",
              "      <th>0</th>\n",
              "      <td>1157097496465825792</td>\n",
              "      <td>artists use clip studio paint please dm looks ...</td>\n",
              "      <td>NOT</td>\n",
              "    </tr>\n",
              "    <tr>\n",
              "      <th>1</th>\n",
              "      <td>1159951246964547584</td>\n",
              "      <td>personORGillORGworkORGORGmightORGneedORGpens</td>\n",
              "      <td>NOT</td>\n",
              "    </tr>\n",
              "    <tr>\n",
              "      <th>2</th>\n",
              "      <td>1161854610727997440</td>\n",
              "      <td>person 1 mycareer trailer huh</td>\n",
              "      <td>NOT</td>\n",
              "    </tr>\n",
              "    <tr>\n",
              "      <th>3</th>\n",
              "      <td>1187418039719026689</td>\n",
              "      <td>aint settling piece shit ass hoes</td>\n",
              "      <td>OFF, UNT</td>\n",
              "    </tr>\n",
              "    <tr>\n",
              "      <th>4</th>\n",
              "      <td>1157363369898328064</td>\n",
              "      <td>person person yea 100 part group</td>\n",
              "      <td>NOT</td>\n",
              "    </tr>\n",
              "    <tr>\n",
              "      <th>...</th>\n",
              "      <td>...</td>\n",
              "      <td>...</td>\n",
              "      <td>...</td>\n",
              "    </tr>\n",
              "    <tr>\n",
              "      <th>134683</th>\n",
              "      <td>1160273231154176005</td>\n",
              "      <td>im done fucking gangbangs dumbass men love lik...</td>\n",
              "      <td>OFF, UNT</td>\n",
              "    </tr>\n",
              "    <tr>\n",
              "      <th>134684</th>\n",
              "      <td>1162081126774652929</td>\n",
              "      <td>get rid trump asap person</td>\n",
              "      <td>NOT</td>\n",
              "    </tr>\n",
              "    <tr>\n",
              "      <th>134685</th>\n",
              "      <td>1165255509202653185</td>\n",
              "      <td>exposing somebody love big l</td>\n",
              "      <td>NOT</td>\n",
              "    </tr>\n",
              "    <tr>\n",
              "      <th>134686</th>\n",
              "      <td>1160347194370809861</td>\n",
              "      <td>parents really inconsiderate fuck</td>\n",
              "      <td>OFF, UNT</td>\n",
              "    </tr>\n",
              "    <tr>\n",
              "      <th>134687</th>\n",
              "      <td>1188221501515980802</td>\n",
              "      <td>person still us league</td>\n",
              "      <td>NOT</td>\n",
              "    </tr>\n",
              "  </tbody>\n",
              "</table>\n",
              "<p>134688 rows × 3 columns</p>\n",
              "</div>"
            ],
            "text/plain": [
              "                         id  ... actual_label\n",
              "0       1157097496465825792  ...          NOT\n",
              "1       1159951246964547584  ...          NOT\n",
              "2       1161854610727997440  ...          NOT\n",
              "3       1187418039719026689  ...     OFF, UNT\n",
              "4       1157363369898328064  ...          NOT\n",
              "...                     ...  ...          ...\n",
              "134683  1160273231154176005  ...     OFF, UNT\n",
              "134684  1162081126774652929  ...          NOT\n",
              "134685  1165255509202653185  ...          NOT\n",
              "134686  1160347194370809861  ...     OFF, UNT\n",
              "134687  1188221501515980802  ...          NOT\n",
              "\n",
              "[134688 rows x 3 columns]"
            ]
          },
          "metadata": {
            "tags": []
          },
          "execution_count": 26
        }
      ]
    },
    {
      "cell_type": "code",
      "metadata": {
        "id": "mJtFcMMyUDyd",
        "colab_type": "code",
        "colab": {}
      },
      "source": [
        "testData=pd.read_csv('olid-training-v1.0.tsv', sep='\\t')\n",
        "testData['actual_label'] = olidData[['subtask_a', 'subtask_b', 'subtask_c']].apply(lambda x: ', '.join(x[x.notnull()]), axis = 1)\n",
        "testData"
      ],
      "execution_count": 0,
      "outputs": []
    },
    {
      "cell_type": "markdown",
      "metadata": {
        "id": "g0RSRH5REzQv",
        "colab_type": "text"
      },
      "source": [
        "Cleaning dataset\n"
      ]
    },
    {
      "cell_type": "code",
      "metadata": {
        "id": "q2SP8xVIs_5U",
        "colab_type": "code",
        "colab": {}
      },
      "source": [
        "nlp = spacy.load(\"en_core_web_sm\")\n",
        "olidData = olidData.reset_index(drop=True)\n",
        "re_space = re.compile('[/(){}\\[\\]\\|@,;]')\n",
        "re_symbols = re.compile('[^0-9a-z #+_]')\n",
        "stop_words = set(stopwords.words('english'))\n",
        "re_user=re.compile('(?<=^|(?<=[^a-zA-Z0-9-_\\.]))@([A-Za-z]+[A-Za-z0-9-_]+)')\n",
        "\n",
        "def clean_text(text):\n",
        "    text=re_user.sub('Person', text)\n",
        "    lower = text.lower()\n",
        "    space_replace = re_space.sub(\" \",lower)\n",
        "    nosymb = re_symbols.sub(\"\",space_replace)\n",
        "    text = re.sub(r\"\\s*\\b(?:{})\\b\".format(\"|\".join(stop_words)), \"\", nosymb)\n",
        "    doc = nlp(text)\n",
        "    for entity in doc.ents:\n",
        "      if entity.label_==\"PERSON\" or entity.label_==\"NORP\" or entity.label_==\"ORG\" or entity.label_==\"GPE\":\n",
        "          text=text.replace(entity.text, entity.label_)\n",
        "    return re.sub(r\" {2,}\", \" \", text.strip())\n"
      ],
      "execution_count": 0,
      "outputs": []
    },
    {
      "cell_type": "markdown",
      "metadata": {
        "id": "6rbP7v_-DDIs",
        "colab_type": "text"
      },
      "source": [
        "Tokeninzing and preparing LSTM model"
      ]
    },
    {
      "cell_type": "code",
      "metadata": {
        "id": "WWazSJYlzc-8",
        "colab_type": "code",
        "outputId": "a43ce9af-a8e8-451a-9a3c-064b14f78c17",
        "colab": {
          "base_uri": "https://localhost:8080/",
          "height": 85
        }
      },
      "source": [
        "maxWords = 50000\n",
        "maxLength = 250\n",
        "embedDimension = 100\n",
        "\n",
        "tokenizer = Tokenizer(num_words=maxWords, filters='!\"#$%&()*+,-./:;<=>?@[\\]^_`{|}~', lower=True)\n",
        "tokenizer.fit_on_texts(olidData['text'])\n",
        "indexedWords = tokenizer.word_index\n",
        "print('Found %s unique tokens.' % len(indexedWords))\n",
        "\n",
        "X_train = tokenizer.texts_to_sequences(olidData['text'].values)\n",
        "X_train = pad_sequences(X_train, maxlen=maxLength)\n",
        "print('Shape of data tensor:', X_train.shape)\n",
        "\n",
        "Y_train = pd.get_dummies(olidData['actual_label'])\n",
        "print('Shape of label tensor:', Y_train.shape)\n",
        "\n",
        "print(X_train.shape,Y_train.shape)"
      ],
      "execution_count": 27,
      "outputs": [
        {
          "output_type": "stream",
          "text": [
            "Found 77145 unique tokens.\n",
            "Shape of data tensor: (134688, 250)\n",
            "Shape of label tensor: (134688, 5)\n",
            "(134688, 250) (134688, 5)\n"
          ],
          "name": "stdout"
        }
      ]
    },
    {
      "cell_type": "markdown",
      "metadata": {
        "id": "zVULjmUH_rGT",
        "colab_type": "text"
      },
      "source": [
        "LSTM model\n"
      ]
    },
    {
      "cell_type": "code",
      "metadata": {
        "id": "BjtDYISAdiYx",
        "colab_type": "code",
        "outputId": "da776f58-d08d-49d4-cb5d-d7053566e67c",
        "colab": {
          "base_uri": "https://localhost:8080/",
          "height": 377
        }
      },
      "source": [
        "lstmModel = Sequential()\n",
        "lstmModel.add(Embedding(maxWords, embedDimension, input_length=X_train.shape[1]))\n",
        "lstmModel.add(SpatialDropout1D(0.2))\n",
        "lstmModel.add(LSTM(100, dropout=0.2, recurrent_dropout=0.2))\n",
        "lstmModel.add(Dense(5, activation='softmax'))\n",
        "lstmModel.compile(loss='categorical_crossentropy', optimizer='adam', metrics=['accuracy',keras_metrics.precision(),keras_metrics.recall(),keras_metrics.f1_score()])\n",
        "print(lstmModel.summary())\n",
        "\n",
        "# LSTM model training\n",
        "epochs = 5\n",
        "batch_size = 64\n",
        "\n",
        "history = lstmModel.fit(X_train, Y_train, epochs=epochs, batch_size=batch_size,validation_split=0.1,callbacks=[EarlyStopping(monitor='val_loss', patience=3, min_delta=0.0001)])"
      ],
      "execution_count": 0,
      "outputs": [
        {
          "output_type": "stream",
          "text": [
            "Model: \"sequential_4\"\n",
            "_________________________________________________________________\n",
            "Layer (type)                 Output Shape              Param #   \n",
            "=================================================================\n",
            "embedding_4 (Embedding)      (None, 250, 100)          5000000   \n",
            "_________________________________________________________________\n",
            "spatial_dropout1d_4 (Spatial (None, 250, 100)          0         \n",
            "_________________________________________________________________\n",
            "lstm_4 (LSTM)                (None, 100)               80400     \n",
            "_________________________________________________________________\n",
            "dense_4 (Dense)              (None, 5)                 505       \n",
            "=================================================================\n",
            "Total params: 5,080,905\n",
            "Trainable params: 5,080,905\n",
            "Non-trainable params: 0\n",
            "_________________________________________________________________\n",
            "None\n",
            "Train on 121219 samples, validate on 13469 samples\n",
            "Epoch 1/5\n",
            " 43200/121219 [=========>....................] - ETA: 11:27 - loss: 0.5082 - acc: 0.8181 - precision: 0.9023 - recall: 0.9571 - f1_score: 0.9289"
          ],
          "name": "stdout"
        }
      ]
    },
    {
      "cell_type": "markdown",
      "metadata": {
        "id": "6ez4u5QlDMA_",
        "colab_type": "text"
      },
      "source": [
        "Reading Test Data"
      ]
    },
    {
      "cell_type": "code",
      "metadata": {
        "id": "Z7ar5VkJLvGM",
        "colab_type": "code",
        "outputId": "0b1733aa-5755-4621-fbf7-f9e02ac37be2",
        "colab": {
          "base_uri": "https://localhost:8080/",
          "height": 470
        }
      },
      "source": [
        "testData=pd.read_csv('testData.csv')\n",
        "testData.tweet=testData.tweet.astype(str)\n",
        "testdata"
      ],
      "execution_count": 18,
      "outputs": [
        {
          "output_type": "execute_result",
          "data": {
            "text/html": [
              "<div>\n",
              "<style scoped>\n",
              "    .dataframe tbody tr th:only-of-type {\n",
              "        vertical-align: middle;\n",
              "    }\n",
              "\n",
              "    .dataframe tbody tr th {\n",
              "        vertical-align: top;\n",
              "    }\n",
              "\n",
              "    .dataframe thead th {\n",
              "        text-align: right;\n",
              "    }\n",
              "</style>\n",
              "<table border=\"1\" class=\"dataframe\">\n",
              "  <thead>\n",
              "    <tr style=\"text-align: right;\">\n",
              "      <th></th>\n",
              "      <th>Unnamed: 0</th>\n",
              "      <th>id</th>\n",
              "      <th>tweet</th>\n",
              "      <th>subtask_a</th>\n",
              "      <th>subtask_b</th>\n",
              "      <th>subtask_c</th>\n",
              "      <th>actual_label</th>\n",
              "    </tr>\n",
              "  </thead>\n",
              "  <tbody>\n",
              "    <tr>\n",
              "      <th>0</th>\n",
              "      <td>0</td>\n",
              "      <td>86426</td>\n",
              "      <td>person ask native americans take</td>\n",
              "      <td>OFF</td>\n",
              "      <td>UNT</td>\n",
              "      <td>NaN</td>\n",
              "      <td>OFF, UNT</td>\n",
              "    </tr>\n",
              "    <tr>\n",
              "      <th>1</th>\n",
              "      <td>1</td>\n",
              "      <td>90194</td>\n",
              "      <td>person person go home youre drunk person #maga...</td>\n",
              "      <td>OFF</td>\n",
              "      <td>TIN</td>\n",
              "      <td>IND</td>\n",
              "      <td>OFF, TIN, IND</td>\n",
              "    </tr>\n",
              "    <tr>\n",
              "      <th>2</th>\n",
              "      <td>2</td>\n",
              "      <td>16820</td>\n",
              "      <td>amazon investigating chinese employees selling...</td>\n",
              "      <td>NOT</td>\n",
              "      <td>NaN</td>\n",
              "      <td>NaN</td>\n",
              "      <td>NOT</td>\n",
              "    </tr>\n",
              "    <tr>\n",
              "      <th>3</th>\n",
              "      <td>3</td>\n",
              "      <td>62688</td>\n",
              "      <td>person someone shouldvetaken piece shit volcano</td>\n",
              "      <td>OFF</td>\n",
              "      <td>UNT</td>\n",
              "      <td>NaN</td>\n",
              "      <td>OFF, UNT</td>\n",
              "    </tr>\n",
              "    <tr>\n",
              "      <th>4</th>\n",
              "      <td>4</td>\n",
              "      <td>43605</td>\n",
              "      <td>person person obama wanted liberals amp illega...</td>\n",
              "      <td>NOT</td>\n",
              "      <td>NaN</td>\n",
              "      <td>NaN</td>\n",
              "      <td>NOT</td>\n",
              "    </tr>\n",
              "    <tr>\n",
              "      <th>...</th>\n",
              "      <td>...</td>\n",
              "      <td>...</td>\n",
              "      <td>...</td>\n",
              "      <td>...</td>\n",
              "      <td>...</td>\n",
              "      <td>...</td>\n",
              "      <td>...</td>\n",
              "    </tr>\n",
              "    <tr>\n",
              "      <th>13235</th>\n",
              "      <td>13235</td>\n",
              "      <td>95338</td>\n",
              "      <td>person sometimes get strong vibes people mans ...</td>\n",
              "      <td>OFF</td>\n",
              "      <td>TIN</td>\n",
              "      <td>IND</td>\n",
              "      <td>OFF, TIN, IND</td>\n",
              "    </tr>\n",
              "    <tr>\n",
              "      <th>13236</th>\n",
              "      <td>13236</td>\n",
              "      <td>67210</td>\n",
              "      <td>benidorm creamfields maga shabby summer</td>\n",
              "      <td>NOT</td>\n",
              "      <td>NaN</td>\n",
              "      <td>NaN</td>\n",
              "      <td>NOT</td>\n",
              "    </tr>\n",
              "    <tr>\n",
              "      <th>13237</th>\n",
              "      <td>13237</td>\n",
              "      <td>82921</td>\n",
              "      <td>person report garbage dont give crap</td>\n",
              "      <td>OFF</td>\n",
              "      <td>TIN</td>\n",
              "      <td>OTH</td>\n",
              "      <td>OFF, TIN, OTH</td>\n",
              "    </tr>\n",
              "    <tr>\n",
              "      <th>13238</th>\n",
              "      <td>13238</td>\n",
              "      <td>27429</td>\n",
              "      <td>person pussy</td>\n",
              "      <td>OFF</td>\n",
              "      <td>UNT</td>\n",
              "      <td>NaN</td>\n",
              "      <td>OFF, UNT</td>\n",
              "    </tr>\n",
              "    <tr>\n",
              "      <th>13239</th>\n",
              "      <td>13239</td>\n",
              "      <td>46552</td>\n",
              "      <td>#spanishrevenge vs #justice #humanrights #free...</td>\n",
              "      <td>NOT</td>\n",
              "      <td>NaN</td>\n",
              "      <td>NaN</td>\n",
              "      <td>NOT</td>\n",
              "    </tr>\n",
              "  </tbody>\n",
              "</table>\n",
              "<p>13240 rows × 7 columns</p>\n",
              "</div>"
            ],
            "text/plain": [
              "       Unnamed: 0     id  ... subtask_c   actual_label\n",
              "0               0  86426  ...       NaN       OFF, UNT\n",
              "1               1  90194  ...       IND  OFF, TIN, IND\n",
              "2               2  16820  ...       NaN            NOT\n",
              "3               3  62688  ...       NaN       OFF, UNT\n",
              "4               4  43605  ...       NaN            NOT\n",
              "...           ...    ...  ...       ...            ...\n",
              "13235       13235  95338  ...       IND  OFF, TIN, IND\n",
              "13236       13236  67210  ...       NaN            NOT\n",
              "13237       13237  82921  ...       OTH  OFF, TIN, OTH\n",
              "13238       13238  27429  ...       NaN       OFF, UNT\n",
              "13239       13239  46552  ...       NaN            NOT\n",
              "\n",
              "[13240 rows x 7 columns]"
            ]
          },
          "metadata": {
            "tags": []
          },
          "execution_count": 18
        }
      ]
    },
    {
      "cell_type": "markdown",
      "metadata": {
        "id": "QT0rnr5NN2VC",
        "colab_type": "text"
      },
      "source": [
        "Preparing and tokenizing test data for the model"
      ]
    },
    {
      "cell_type": "code",
      "metadata": {
        "id": "o_KXVry-NvzO",
        "colab_type": "code",
        "colab": {
          "base_uri": "https://localhost:8080/",
          "height": 68
        },
        "outputId": "778b2841-f217-4d99-f25d-93a49f8fe776"
      },
      "source": [
        "tokenizer = Tokenizer(num_words=maxWords, filters='!\"#$%&()*+,-./:;<=>?@[\\]^_`{|}~', lower=True)\n",
        "tokenizer.fit_on_texts(testData['tweet'])\n",
        "indexedWords = tokenizer.word_index\n",
        "print('Found %s unique tokens.' % len(indexedWords))\n",
        "\n",
        "\n",
        "X_test = tokenizer.texts_to_sequences(testData['tweet'].values)\n",
        "X_test = pad_sequences(X_test, maxlen=maxLength)\n",
        "print('Shape of data tensor:', X_test.shape)\n",
        "\n",
        "Y_test = pd.get_dummies(testData['actual_label'])\n",
        "print('Shape of label tensor:', Y_test.shape)"
      ],
      "execution_count": 19,
      "outputs": [
        {
          "output_type": "stream",
          "text": [
            "Found 20373 unique tokens.\n",
            "Shape of data tensor: (13240, 250)\n",
            "Shape of label tensor: (13240, 5)\n"
          ],
          "name": "stdout"
        }
      ]
    },
    {
      "cell_type": "markdown",
      "metadata": {
        "id": "g3GFYgiSAZhx",
        "colab_type": "text"
      },
      "source": [
        "Testing of LSTM model"
      ]
    },
    {
      "cell_type": "code",
      "metadata": {
        "id": "CbOdYO2jdr-H",
        "colab_type": "code",
        "outputId": "9703a50c-427d-46c0-b1e5-d5e9d0a3b6c5",
        "colab": {
          "base_uri": "https://localhost:8080/",
          "height": 136
        }
      },
      "source": [
        "accr = lstmModel.evaluate(X_test,Y_test)\n",
        "print('Test set\\n  Loss: {:0.3f}\\n  Accuracy: {:0.3f}\\n  Precision: {:0.3f}\\n  Recall: {:0.3f}\\n  F1Score: {:0.3f}'.format(accr[0],accr[1],accr[2],accr[3],accr[4]))"
      ],
      "execution_count": 20,
      "outputs": [
        {
          "output_type": "stream",
          "text": [
            "13240/13240 [==============================] - 28s 2ms/step\n",
            "Test set\n",
            "  Loss: 4.561\n",
            "  Accuracy: 0.417\n",
            "  Precision: 0.668\n",
            "  Recall: 0.580\n",
            "  F1Score: 0.621\n"
          ],
          "name": "stdout"
        }
      ]
    },
    {
      "cell_type": "markdown",
      "metadata": {
        "id": "5cx6M6BNER_5",
        "colab_type": "text"
      },
      "source": [
        "Create dataframe using InsertPredictions function with the test data and predict."
      ]
    },
    {
      "cell_type": "code",
      "metadata": {
        "id": "b84rSDoduIgd",
        "colab_type": "code",
        "outputId": "a7ecb42f-1cfc-406c-a68b-8cb62bb313bb",
        "colab": {
          "base_uri": "https://localhost:8080/",
          "height": 606
        }
      },
      "source": [
        "import numpy as np\n",
        "\n",
        "def InsertPredictions(test_data,model):\n",
        "    lstNot=[]\n",
        "    lstOffGrp=[]\n",
        "    lstOffInd=[]\n",
        "    lstOffOth=[]\n",
        "    lstOffUnt=[]\n",
        "    lst=[\"NOT\",\"OFF, TIN, GRP\",\"OFF, TIN, IND\",\"OFF, TIN, OTH\",\"OFF, UNT\"]\n",
        "    dd=testdata\n",
        "    lst_text = dd['tweet'].tolist()\n",
        "    y_prob = model.predict(test_data)\n",
        "    for prob in y_prob:\n",
        "      lstNot.append(prob[0])\n",
        "      lstOffGrp.append(prob[1])\n",
        "      lstOffInd.append(prob[2])\n",
        "      lstOffOth.append(prob[3])\n",
        "      lstOffUnt.append(prob[4])\n",
        "    y_classes = y_prob.argmax(axis=-1)\n",
        "    lst_classes=y_classes.tolist()\n",
        "    lst_predictions = [lst[i] for i in lst_classes]\n",
        "    lst_original=dd['actual_label'].tolist()\n",
        "    lst_prob=y_prob.tolist()\n",
        "    df = pd.DataFrame(lst_text,columns =['tweet'])\n",
        "    df['Original']=lst_original\n",
        "    df['Predictions']=lst_predictions\n",
        "    df['Not Off.']=lstNot\n",
        "    df['Off. Group']=lstOffGrp\n",
        "    df['Off. Ind.']=lstOffInd\n",
        "    df['Off. Others']=lstOffOth\n",
        "    df['Off. Untargeted']=lstOffUnt\n",
        "    lstSummary=[]\n",
        "    for index, row in df.iterrows():\n",
        "      if row['Original']==row['Predictions']:\n",
        "        lstSummary.append(1)\n",
        "      else:\n",
        "        lstSummary.append(0)\n",
        "    df['IsCorrect']=lstSummary\n",
        "    return df\n",
        "\n",
        "predicted=InsertPredictions(X_test,lstmModel)\n",
        "predicted\n",
        "\n",
        "#y_classes = keras.np_utils.probas_to_classes(y_proba)\n",
        "#y_classes[0][0]"
      ],
      "execution_count": 0,
      "outputs": [
        {
          "output_type": "execute_result",
          "data": {
            "text/html": [
              "<div>\n",
              "<style scoped>\n",
              "    .dataframe tbody tr th:only-of-type {\n",
              "        vertical-align: middle;\n",
              "    }\n",
              "\n",
              "    .dataframe tbody tr th {\n",
              "        vertical-align: top;\n",
              "    }\n",
              "\n",
              "    .dataframe thead th {\n",
              "        text-align: right;\n",
              "    }\n",
              "</style>\n",
              "<table border=\"1\" class=\"dataframe\">\n",
              "  <thead>\n",
              "    <tr style=\"text-align: right;\">\n",
              "      <th></th>\n",
              "      <th>tweet</th>\n",
              "      <th>Original</th>\n",
              "      <th>Predictions</th>\n",
              "      <th>Not Off.</th>\n",
              "      <th>Off. Group</th>\n",
              "      <th>Off. Ind.</th>\n",
              "      <th>Off. Others</th>\n",
              "      <th>Off. Untargeted</th>\n",
              "      <th>IsCorrect</th>\n",
              "    </tr>\n",
              "  </thead>\n",
              "  <tbody>\n",
              "    <tr>\n",
              "      <th>0</th>\n",
              "      <td>person ask native americans take</td>\n",
              "      <td>OFF, UNT</td>\n",
              "      <td>NOT</td>\n",
              "      <td>0.996821</td>\n",
              "      <td>1.132035e-03</td>\n",
              "      <td>4.471898e-05</td>\n",
              "      <td>1.959440e-03</td>\n",
              "      <td>4.277546e-05</td>\n",
              "      <td>0</td>\n",
              "    </tr>\n",
              "    <tr>\n",
              "      <th>1</th>\n",
              "      <td>person person go home youre drunk person #maga...</td>\n",
              "      <td>OFF, TIN, IND</td>\n",
              "      <td>NOT</td>\n",
              "      <td>0.999383</td>\n",
              "      <td>2.427596e-04</td>\n",
              "      <td>1.069936e-04</td>\n",
              "      <td>2.518734e-04</td>\n",
              "      <td>1.519497e-05</td>\n",
              "      <td>0</td>\n",
              "    </tr>\n",
              "    <tr>\n",
              "      <th>2</th>\n",
              "      <td>amazon investigating chinese employees selling...</td>\n",
              "      <td>NOT</td>\n",
              "      <td>NOT</td>\n",
              "      <td>0.997559</td>\n",
              "      <td>1.495147e-04</td>\n",
              "      <td>2.253259e-05</td>\n",
              "      <td>2.216617e-03</td>\n",
              "      <td>5.248560e-05</td>\n",
              "      <td>1</td>\n",
              "    </tr>\n",
              "    <tr>\n",
              "      <th>3</th>\n",
              "      <td>person someone shouldvetaken piece shit volcano</td>\n",
              "      <td>OFF, UNT</td>\n",
              "      <td>OFF, TIN, IND</td>\n",
              "      <td>0.000043</td>\n",
              "      <td>3.289724e-03</td>\n",
              "      <td>6.974528e-01</td>\n",
              "      <td>1.726195e-01</td>\n",
              "      <td>1.265945e-01</td>\n",
              "      <td>0</td>\n",
              "    </tr>\n",
              "    <tr>\n",
              "      <th>4</th>\n",
              "      <td>person person obama wanted liberals amp illega...</td>\n",
              "      <td>NOT</td>\n",
              "      <td>NOT</td>\n",
              "      <td>0.999861</td>\n",
              "      <td>1.062854e-04</td>\n",
              "      <td>2.477088e-06</td>\n",
              "      <td>2.919721e-05</td>\n",
              "      <td>7.809057e-07</td>\n",
              "      <td>1</td>\n",
              "    </tr>\n",
              "    <tr>\n",
              "      <th>...</th>\n",
              "      <td>...</td>\n",
              "      <td>...</td>\n",
              "      <td>...</td>\n",
              "      <td>...</td>\n",
              "      <td>...</td>\n",
              "      <td>...</td>\n",
              "      <td>...</td>\n",
              "      <td>...</td>\n",
              "      <td>...</td>\n",
              "    </tr>\n",
              "    <tr>\n",
              "      <th>13235</th>\n",
              "      <td>person sometimes get strong vibes people mans ...</td>\n",
              "      <td>OFF, TIN, IND</td>\n",
              "      <td>OFF, TIN, GRP</td>\n",
              "      <td>0.185298</td>\n",
              "      <td>6.199777e-01</td>\n",
              "      <td>1.848053e-01</td>\n",
              "      <td>4.357410e-03</td>\n",
              "      <td>5.561950e-03</td>\n",
              "      <td>0</td>\n",
              "    </tr>\n",
              "    <tr>\n",
              "      <th>13236</th>\n",
              "      <td>benidorm creamfields maga shabby summer</td>\n",
              "      <td>NOT</td>\n",
              "      <td>OFF, TIN, GRP</td>\n",
              "      <td>0.366661</td>\n",
              "      <td>4.906460e-01</td>\n",
              "      <td>3.541188e-02</td>\n",
              "      <td>8.225346e-02</td>\n",
              "      <td>2.502730e-02</td>\n",
              "      <td>0</td>\n",
              "    </tr>\n",
              "    <tr>\n",
              "      <th>13237</th>\n",
              "      <td>person report garbage dont give crap</td>\n",
              "      <td>OFF, TIN, OTH</td>\n",
              "      <td>OFF, TIN, OTH</td>\n",
              "      <td>0.001019</td>\n",
              "      <td>2.231188e-01</td>\n",
              "      <td>5.730192e-02</td>\n",
              "      <td>6.811059e-01</td>\n",
              "      <td>3.745391e-02</td>\n",
              "      <td>1</td>\n",
              "    </tr>\n",
              "    <tr>\n",
              "      <th>13238</th>\n",
              "      <td>person pussy</td>\n",
              "      <td>OFF, UNT</td>\n",
              "      <td>OFF, TIN, IND</td>\n",
              "      <td>0.001083</td>\n",
              "      <td>9.696815e-02</td>\n",
              "      <td>8.665940e-01</td>\n",
              "      <td>8.153748e-03</td>\n",
              "      <td>2.720166e-02</td>\n",
              "      <td>0</td>\n",
              "    </tr>\n",
              "    <tr>\n",
              "      <th>13239</th>\n",
              "      <td>#spanishrevenge vs #justice #humanrights #free...</td>\n",
              "      <td>NOT</td>\n",
              "      <td>NOT</td>\n",
              "      <td>1.000000</td>\n",
              "      <td>1.854308e-08</td>\n",
              "      <td>5.597563e-09</td>\n",
              "      <td>3.359640e-08</td>\n",
              "      <td>1.274304e-09</td>\n",
              "      <td>1</td>\n",
              "    </tr>\n",
              "  </tbody>\n",
              "</table>\n",
              "<p>13240 rows × 9 columns</p>\n",
              "</div>"
            ],
            "text/plain": [
              "                                                   tweet  ... IsCorrect\n",
              "0                       person ask native americans take  ...         0\n",
              "1      person person go home youre drunk person #maga...  ...         0\n",
              "2      amazon investigating chinese employees selling...  ...         1\n",
              "3        person someone shouldvetaken piece shit volcano  ...         0\n",
              "4      person person obama wanted liberals amp illega...  ...         1\n",
              "...                                                  ...  ...       ...\n",
              "13235  person sometimes get strong vibes people mans ...  ...         0\n",
              "13236            benidorm creamfields maga shabby summer  ...         0\n",
              "13237               person report garbage dont give crap  ...         1\n",
              "13238                                       person pussy  ...         0\n",
              "13239  #spanishrevenge vs #justice #humanrights #free...  ...         1\n",
              "\n",
              "[13240 rows x 9 columns]"
            ]
          },
          "metadata": {
            "tags": []
          },
          "execution_count": 12
        }
      ]
    },
    {
      "cell_type": "code",
      "metadata": {
        "id": "vpEN0xdbkcFp",
        "colab_type": "code",
        "outputId": "d9f378cd-8029-4aff-ce40-39997cac9196",
        "colab": {
          "base_uri": "https://localhost:8080/",
          "height": 289
        }
      },
      "source": [
        "def calScores(frame):\n",
        "  lst=['NOT','OFF, TIN, GRP','OFF, TIN, IND','OFF, TIN, OTH','OFF, UNT']\n",
        "  lstFscore=[]\n",
        "  for item in lst:\n",
        "    tp=len(frame[(frame['IsCorrect']==1) & (frame['Predictions']==item)])\n",
        "    fp=len(frame[(frame['IsCorrect']==0) & (frame['Predictions']==item)])\n",
        "    #precision=tp/tp+fp\n",
        "    precision=tp/(tp+fp)\n",
        "    print(\"Precision for \"+item+\" : \"+str(precision))\n",
        "    fn=len(frame[(frame['Original']==item) & (frame['Predictions']!=item)])\n",
        "    recall=tp/(tp+fn)\n",
        "    print(\"Recall for \"+item+\" : \"+str(recall))\n",
        "    fScore=(2*precision*recall)/(precision+recall)\n",
        "    lstFscore.append(fScore)\n",
        "  return lstFscore\n",
        "\n",
        "tp=len(predicted[(predicted['IsCorrect']==1) & (predicted['Predictions']=='OFF, UNT')])\n",
        "fp=len(predicted[(predicted['IsCorrect']==0) & (predicted['Predictions']=='OFF, UNT')])\n",
        "print(tp,fp)\n",
        "calScores(predicted)"
      ],
      "execution_count": 0,
      "outputs": [
        {
          "output_type": "stream",
          "text": [
            "6 11\n",
            "Precision for NOT : 0.7713333986479867\n",
            "Recall for NOT : 0.8906108597285067\n",
            "Precision for OFF, TIN, GRP : 0.2718204488778055\n",
            "Recall for OFF, TIN, GRP : 0.4059590316573557\n",
            "Precision for OFF, TIN, IND : 0.6144708423326134\n",
            "Recall for OFF, TIN, IND : 0.23639385126713752\n",
            "Precision for OFF, TIN, OTH : 0.11316872427983539\n",
            "Recall for OFF, TIN, OTH : 0.13924050632911392\n",
            "Precision for OFF, UNT : 0.35294117647058826\n",
            "Recall for OFF, UNT : 0.011450381679389313\n"
          ],
          "name": "stdout"
        },
        {
          "output_type": "execute_result",
          "data": {
            "text/plain": [
              "[0.8266918674856932,\n",
              " 0.3256161314413742,\n",
              " 0.3414341434143414,\n",
              " 0.12485811577752552,\n",
              " 0.022181146025878003]"
            ]
          },
          "metadata": {
            "tags": []
          },
          "execution_count": 13
        }
      ]
    },
    {
      "cell_type": "code",
      "metadata": {
        "id": "ID0NKnbBzVdI",
        "colab_type": "code",
        "outputId": "00226e5c-195a-41d2-e7dd-49576dd164dc",
        "colab": {
          "base_uri": "https://localhost:8080/",
          "height": 281
        }
      },
      "source": [
        "\n",
        "plt.title('Loss')\n",
        "plt.plot(history.history['loss'], label='train')\n",
        "plt.plot(history.history['val_loss'], label='test')\n",
        "plt.legend()\n",
        "plt.show();"
      ],
      "execution_count": 0,
      "outputs": [
        {
          "output_type": "display_data",
          "data": {
            "image/png": "[encoded data removed]",
            "text/plain": [
              "<Figure size 432x288 with 1 Axes>"
            ]
          },
          "metadata": {
            "tags": []
          }
        }
      ]
    },
    {
      "cell_type": "code",
      "metadata": {
        "id": "sWUFFDlw1ETG",
        "colab_type": "code",
        "outputId": "922dee7f-ed0a-449e-dc3d-89bfee9cd26a",
        "colab": {
          "base_uri": "https://localhost:8080/",
          "height": 281
        }
      },
      "source": [
        "plt.title('Accuracy')\n",
        "plt.plot(history.history['acc'], label='train')\n",
        "plt.plot(history.history['val_acc'], label='test')\n",
        "plt.legend()\n",
        "plt.show();"
      ],
      "execution_count": 0,
      "outputs": [
        {
          "output_type": "display_data",
          "data": {
            "image/png": "[encoded data removed]",
            "text/plain": [
              "<Figure size 432x288 with 1 Axes>"
            ]
          },
          "metadata": {
            "tags": []
          }
        }
      ]
    },
    {
      "cell_type": "code",
      "metadata": {
        "id": "BdrqvKok1nWn",
        "colab_type": "code",
        "outputId": "9d704468-685f-44d5-902b-1ba694e5d0cf",
        "colab": {
          "base_uri": "https://localhost:8080/",
          "height": 881
        }
      },
      "source": [
        "apiData=pd.read_csv('apiData.csv', sep='\\t')\n",
        "apiData"
      ],
      "execution_count": 0,
      "outputs": [
        {
          "output_type": "execute_result",
          "data": {
            "text/html": [
              "<div>\n",
              "<style scoped>\n",
              "    .dataframe tbody tr th:only-of-type {\n",
              "        vertical-align: middle;\n",
              "    }\n",
              "\n",
              "    .dataframe tbody tr th {\n",
              "        vertical-align: top;\n",
              "    }\n",
              "\n",
              "    .dataframe thead th {\n",
              "        text-align: right;\n",
              "    }\n",
              "</style>\n",
              "<table border=\"1\" class=\"dataframe\">\n",
              "  <thead>\n",
              "    <tr style=\"text-align: right;\">\n",
              "      <th></th>\n",
              "      <th>Unnamed: 0</th>\n",
              "      <th>id</th>\n",
              "      <th>id_str</th>\n",
              "      <th>text</th>\n",
              "      <th>user_id</th>\n",
              "      <th>user_screen_name</th>\n",
              "      <th>created_at</th>\n",
              "    </tr>\n",
              "  </thead>\n",
              "  <tbody>\n",
              "    <tr>\n",
              "      <th>0</th>\n",
              "      <td>0</td>\n",
              "      <td>1205982163549728769</td>\n",
              "      <td>1205982163549728769</td>\n",
              "      <td>RT @BruthaManTho: #ArmyNavyGame nothing like s...</td>\n",
              "      <td>772787304</td>\n",
              "      <td>ArriolaAnn</td>\n",
              "      <td>Sat Dec 14 22:45:28 +0000 2019</td>\n",
              "    </tr>\n",
              "    <tr>\n",
              "      <th>1</th>\n",
              "      <td>1</td>\n",
              "      <td>1205982164061446146</td>\n",
              "      <td>1205982164061446146</td>\n",
              "      <td>RT @bbcstrictly: The #Strictly class of 2019 a...</td>\n",
              "      <td>91434042</td>\n",
              "      <td>em_katexo</td>\n",
              "      <td>Sat Dec 14 22:45:28 +0000 2019</td>\n",
              "    </tr>\n",
              "    <tr>\n",
              "      <th>2</th>\n",
              "      <td>2</td>\n",
              "      <td>1205982164094988288</td>\n",
              "      <td>1205982164094988288</td>\n",
              "      <td>@MissFrance Miss Provence !</td>\n",
              "      <td>1088924476975263746</td>\n",
              "      <td>CharlotteTaquet</td>\n",
              "      <td>Sat Dec 14 22:45:28 +0000 2019</td>\n",
              "    </tr>\n",
              "    <tr>\n",
              "      <th>3</th>\n",
              "      <td>3</td>\n",
              "      <td>1205982164153782273</td>\n",
              "      <td>1205982164153782273</td>\n",
              "      <td>#StrictlyFinal I know the standard is good in ...</td>\n",
              "      <td>917385627649429504</td>\n",
              "      <td>Julie_Dawson12</td>\n",
              "      <td>Sat Dec 14 22:45:28 +0000 2019</td>\n",
              "    </tr>\n",
              "    <tr>\n",
              "      <th>4</th>\n",
              "      <td>4</td>\n",
              "      <td>1205982164988256256</td>\n",
              "      <td>1205982164988256256</td>\n",
              "      <td>RT @Michy043: ARMY please read this is really ...</td>\n",
              "      <td>1147779470285164545</td>\n",
              "      <td>lovinjintaekook</td>\n",
              "      <td>Sat Dec 14 22:45:28 +0000 2019</td>\n",
              "    </tr>\n",
              "    <tr>\n",
              "      <th>...</th>\n",
              "      <td>...</td>\n",
              "      <td>...</td>\n",
              "      <td>...</td>\n",
              "      <td>...</td>\n",
              "      <td>...</td>\n",
              "      <td>...</td>\n",
              "      <td>...</td>\n",
              "    </tr>\n",
              "    <tr>\n",
              "      <th>40496</th>\n",
              "      <td>40496</td>\n",
              "      <td>1206003770741710849</td>\n",
              "      <td>1206003770741710849</td>\n",
              "      <td>#BTSWin10s  @BTS_twt  &amp;amp; ARMY \\r\\nhttps://t...</td>\n",
              "      <td>469279642</td>\n",
              "      <td>L0vehaEhyuk</td>\n",
              "      <td>Sun Dec 15 00:11:20 +0000 2019</td>\n",
              "    </tr>\n",
              "    <tr>\n",
              "      <th>40497</th>\n",
              "      <td>40497</td>\n",
              "      <td>1206003771475668992</td>\n",
              "      <td>1206003771475668992</td>\n",
              "      <td>RT @avenaim: Trumps America #ArmyNavyGame a bu...</td>\n",
              "      <td>756510191332560896</td>\n",
              "      <td>Picklesnova</td>\n",
              "      <td>Sun Dec 15 00:11:20 +0000 2019</td>\n",
              "    </tr>\n",
              "    <tr>\n",
              "      <th>40498</th>\n",
              "      <td>40498</td>\n",
              "      <td>1206003771563761664</td>\n",
              "      <td>1206003771563761664</td>\n",
              "      <td>RT @escapedmatrix: After military officials pu...</td>\n",
              "      <td>899415992056631303</td>\n",
              "      <td>RobinPrice_ATL</td>\n",
              "      <td>Sun Dec 15 00:11:20 +0000 2019</td>\n",
              "    </tr>\n",
              "    <tr>\n",
              "      <th>40499</th>\n",
              "      <td>40499</td>\n",
              "      <td>1206003772012605471</td>\n",
              "      <td>1206003772012605471</td>\n",
              "      <td>RT @mmpadellan: As an American,\\r\\nAs a Navy D...</td>\n",
              "      <td>494042942</td>\n",
              "      <td>CathySturgis</td>\n",
              "      <td>Sun Dec 15 00:11:20 +0000 2019</td>\n",
              "    </tr>\n",
              "    <tr>\n",
              "      <th>40500</th>\n",
              "      <td>40500</td>\n",
              "      <td>1206003773606416389</td>\n",
              "      <td>1206003773606416389</td>\n",
              "      <td>RT @Scavino45: President @realDonaldTrump retu...</td>\n",
              "      <td>1170281340572446720</td>\n",
              "      <td>Ann_Gretarsson</td>\n",
              "      <td>Sun Dec 15 00:11:20 +0000 2019</td>\n",
              "    </tr>\n",
              "  </tbody>\n",
              "</table>\n",
              "<p>40501 rows × 7 columns</p>\n",
              "</div>"
            ],
            "text/plain": [
              "       Unnamed: 0  ...                      created_at\n",
              "0               0  ...  Sat Dec 14 22:45:28 +0000 2019\n",
              "1               1  ...  Sat Dec 14 22:45:28 +0000 2019\n",
              "2               2  ...  Sat Dec 14 22:45:28 +0000 2019\n",
              "3               3  ...  Sat Dec 14 22:45:28 +0000 2019\n",
              "4               4  ...  Sat Dec 14 22:45:28 +0000 2019\n",
              "...           ...  ...                             ...\n",
              "40496       40496  ...  Sun Dec 15 00:11:20 +0000 2019\n",
              "40497       40497  ...  Sun Dec 15 00:11:20 +0000 2019\n",
              "40498       40498  ...  Sun Dec 15 00:11:20 +0000 2019\n",
              "40499       40499  ...  Sun Dec 15 00:11:20 +0000 2019\n",
              "40500       40500  ...  Sun Dec 15 00:11:20 +0000 2019\n",
              "\n",
              "[40501 rows x 7 columns]"
            ]
          },
          "metadata": {
            "tags": []
          },
          "execution_count": 20
        }
      ]
    },
    {
      "cell_type": "code",
      "metadata": {
        "id": "dxEao0BMkKZl",
        "colab_type": "code",
        "outputId": "088df75f-c1d5-44fd-c8de-606d7840b43f",
        "colab": {
          "base_uri": "https://localhost:8080/",
          "height": 932
        }
      },
      "source": [
        "apiData['text'] = apiData['text'].apply(clean_text)\n",
        "apiData"
      ],
      "execution_count": 0,
      "outputs": [
        {
          "output_type": "execute_result",
          "data": {
            "text/html": [
              "<div>\n",
              "<style scoped>\n",
              "    .dataframe tbody tr th:only-of-type {\n",
              "        vertical-align: middle;\n",
              "    }\n",
              "\n",
              "    .dataframe tbody tr th {\n",
              "        vertical-align: top;\n",
              "    }\n",
              "\n",
              "    .dataframe thead th {\n",
              "        text-align: right;\n",
              "    }\n",
              "</style>\n",
              "<table border=\"1\" class=\"dataframe\">\n",
              "  <thead>\n",
              "    <tr style=\"text-align: right;\">\n",
              "      <th></th>\n",
              "      <th>Unnamed: 0</th>\n",
              "      <th>id</th>\n",
              "      <th>id_str</th>\n",
              "      <th>text</th>\n",
              "      <th>user_id</th>\n",
              "      <th>user_screen_name</th>\n",
              "      <th>created_at</th>\n",
              "    </tr>\n",
              "  </thead>\n",
              "  <tbody>\n",
              "    <tr>\n",
              "      <th>0</th>\n",
              "      <td>0</td>\n",
              "      <td>1205982163549728769</td>\n",
              "      <td>1205982163549728769</td>\n",
              "      <td>rt person #armynavygame nothing like seeing bu...</td>\n",
              "      <td>772787304</td>\n",
              "      <td>ArriolaAnn</td>\n",
              "      <td>Sat Dec 14 22:45:28 +0000 2019</td>\n",
              "    </tr>\n",
              "    <tr>\n",
              "      <th>1</th>\n",
              "      <td>1</td>\n",
              "      <td>1205982164061446146</td>\n",
              "      <td>1205982164061446146</td>\n",
              "      <td>rt person #strictly class 2019 back ballroom b...</td>\n",
              "      <td>91434042</td>\n",
              "      <td>em_katexo</td>\n",
              "      <td>Sat Dec 14 22:45:28 +0000 2019</td>\n",
              "    </tr>\n",
              "    <tr>\n",
              "      <th>2</th>\n",
              "      <td>2</td>\n",
              "      <td>1205982164094988288</td>\n",
              "      <td>1205982164094988288</td>\n",
              "      <td>person miss provence</td>\n",
              "      <td>1088924476975263746</td>\n",
              "      <td>CharlotteTaquet</td>\n",
              "      <td>Sat Dec 14 22:45:28 +0000 2019</td>\n",
              "    </tr>\n",
              "    <tr>\n",
              "      <th>3</th>\n",
              "      <td>3</td>\n",
              "      <td>1205982164153782273</td>\n",
              "      <td>1205982164153782273</td>\n",
              "      <td>#strictlyfinal know standard good final seems ...</td>\n",
              "      <td>917385627649429504</td>\n",
              "      <td>Julie_Dawson12</td>\n",
              "      <td>Sat Dec 14 22:45:28 +0000 2019</td>\n",
              "    </tr>\n",
              "    <tr>\n",
              "      <th>4</th>\n",
              "      <td>4</td>\n",
              "      <td>1205982164988256256</td>\n",
              "      <td>1205982164988256256</td>\n",
              "      <td>rt person army please read really important le...</td>\n",
              "      <td>1147779470285164545</td>\n",
              "      <td>lovinjintaekook</td>\n",
              "      <td>Sat Dec 14 22:45:28 +0000 2019</td>\n",
              "    </tr>\n",
              "    <tr>\n",
              "      <th>...</th>\n",
              "      <td>...</td>\n",
              "      <td>...</td>\n",
              "      <td>...</td>\n",
              "      <td>...</td>\n",
              "      <td>...</td>\n",
              "      <td>...</td>\n",
              "      <td>...</td>\n",
              "    </tr>\n",
              "    <tr>\n",
              "      <th>40496</th>\n",
              "      <td>40496</td>\n",
              "      <td>1206003770741710849</td>\n",
              "      <td>1206003770741710849</td>\n",
              "      <td>#btswin10s person amp army https tco kg0ccwu81o</td>\n",
              "      <td>469279642</td>\n",
              "      <td>L0vehaEhyuk</td>\n",
              "      <td>Sun Dec 15 00:11:20 +0000 2019</td>\n",
              "    </tr>\n",
              "    <tr>\n",
              "      <th>40497</th>\n",
              "      <td>40497</td>\n",
              "      <td>1206003771475668992</td>\n",
              "      <td>1206003771475668992</td>\n",
              "      <td>rt person trumps america #armynavygame bunch c...</td>\n",
              "      <td>756510191332560896</td>\n",
              "      <td>Picklesnova</td>\n",
              "      <td>Sun Dec 15 00:11:20 +0000 2019</td>\n",
              "    </tr>\n",
              "    <tr>\n",
              "      <th>40498</th>\n",
              "      <td>40498</td>\n",
              "      <td>1206003771563761664</td>\n",
              "      <td>1206003771563761664</td>\n",
              "      <td>rt person military officials publicly emphasiz...</td>\n",
              "      <td>899415992056631303</td>\n",
              "      <td>RobinPrice_ATL</td>\n",
              "      <td>Sun Dec 15 00:11:20 +0000 2019</td>\n",
              "    </tr>\n",
              "    <tr>\n",
              "      <th>40499</th>\n",
              "      <td>40499</td>\n",
              "      <td>1206003772012605471</td>\n",
              "      <td>1206003772012605471</td>\n",
              "      <td>rt person NORP navy dad decent human beingyou ...</td>\n",
              "      <td>494042942</td>\n",
              "      <td>CathySturgis</td>\n",
              "      <td>Sun Dec 15 00:11:20 +0000 2019</td>\n",
              "    </tr>\n",
              "    <tr>\n",
              "      <th>40500</th>\n",
              "      <td>40500</td>\n",
              "      <td>1206003773606416389</td>\n",
              "      <td>1206003773606416389</td>\n",
              "      <td>rt person president person returns person atte...</td>\n",
              "      <td>1170281340572446720</td>\n",
              "      <td>Ann_Gretarsson</td>\n",
              "      <td>Sun Dec 15 00:11:20 +0000 2019</td>\n",
              "    </tr>\n",
              "  </tbody>\n",
              "</table>\n",
              "<p>40501 rows × 7 columns</p>\n",
              "</div>"
            ],
            "text/plain": [
              "       Unnamed: 0  ...                      created_at\n",
              "0               0  ...  Sat Dec 14 22:45:28 +0000 2019\n",
              "1               1  ...  Sat Dec 14 22:45:28 +0000 2019\n",
              "2               2  ...  Sat Dec 14 22:45:28 +0000 2019\n",
              "3               3  ...  Sat Dec 14 22:45:28 +0000 2019\n",
              "4               4  ...  Sat Dec 14 22:45:28 +0000 2019\n",
              "...           ...  ...                             ...\n",
              "40496       40496  ...  Sun Dec 15 00:11:20 +0000 2019\n",
              "40497       40497  ...  Sun Dec 15 00:11:20 +0000 2019\n",
              "40498       40498  ...  Sun Dec 15 00:11:20 +0000 2019\n",
              "40499       40499  ...  Sun Dec 15 00:11:20 +0000 2019\n",
              "40500       40500  ...  Sun Dec 15 00:11:20 +0000 2019\n",
              "\n",
              "[40501 rows x 7 columns]"
            ]
          },
          "metadata": {
            "tags": []
          },
          "execution_count": 21
        }
      ]
    }
  ]
}