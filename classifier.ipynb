{
  "nbformat": 4,
  "nbformat_minor": 0,
  "metadata": {
    "colab": {
      "name": "Untitled0.ipynb",
      "provenance": []
    },
    "kernelspec": {
      "name": "python3",
      "display_name": "Python 3"
    }
  },
  "cells": [
    {
      "cell_type": "markdown",
      "metadata": {
        "id": "FBuUqiRv6zmR",
        "colab_type": "text"
      },
      "source": [
        "Libraries used in this project"
      ]
    },
    {
      "cell_type": "code",
      "metadata": {
        "id": "3JxAmIPoqi_C",
        "colab_type": "code",
        "outputId": "36efb635-489f-420a-f4f1-7124960db344",
        "colab": {
          "base_uri": "https://localhost:8080/",
          "height": 51
        }
      },
      "source": [
        "import pandas as pd\n",
        "import re\n",
        "import nltk\n",
        "nltk.download('stopwords')\n",
        "from nltk.corpus import stopwords\n",
        "from sklearn.feature_extraction.text import CountVectorizer\n",
        "import spacy\n",
        "import matplotlib.pyplot as plt\n",
        "import seaborn as sns\n",
        "from keras.preprocessing.text import Tokenizer\n",
        "from keras.preprocessing.sequence import pad_sequences\n",
        "from keras.models import Sequential\n",
        "from keras.layers import Dense, Embedding, LSTM, SpatialDropout1D,Bidirectional\n",
        "from sklearn.model_selection import train_test_split\n",
        "from keras.utils.np_utils import to_categorical\n",
        "from keras.callbacks import EarlyStopping\n",
        "from keras.layers import Dropout\n",
        "import keras_metrics\n",
        "import re\n",
        "from nltk.corpus import stopwords\n",
        "from nltk import word_tokenize\n",
        "#STOPWORDS = set(stopwords.words('english'))\n",
        "from bs4 import BeautifulSoup\n",
        "import plotly.graph_objs as go\n",
        "import chart_studio.plotly as py\n",
        "import cufflinks\n",
        "from IPython.core.interactiveshell import InteractiveShell\n",
        "import plotly.figure_factory as ff\n",
        "InteractiveShell.ast_node_interactivity = 'all'\n",
        "from plotly.offline import iplot\n",
        "cufflinks.go_offline()\n",
        "cufflinks.set_config_file(world_readable=True, theme='pearl')"
      ],
      "execution_count": 3,
      "outputs": [
        {
          "output_type": "stream",
          "text": [
            "[nltk_data] Downloading package stopwords to /root/nltk_data...\n",
            "[nltk_data]   Package stopwords is already up-to-date!\n"
          ],
          "name": "stdout"
        },
        {
          "output_type": "display_data",
          "data": {
            "text/html": [
              "        <script type=\"text/javascript\">\n",
              "        window.PlotlyConfig = {MathJaxConfig: 'local'};\n",
              "        if (window.MathJax) {MathJax.Hub.Config({SVG: {font: \"STIX-Web\"}});}\n",
              "        if (typeof require !== 'undefined') {\n",
              "        require.undef(\"plotly\");\n",
              "        requirejs.config({\n",
              "            paths: {\n",
              "                'plotly': ['https://cdn.plot.ly/plotly-latest.min']\n",
              "            }\n",
              "        });\n",
              "        require(['plotly'], function(Plotly) {\n",
              "            window._Plotly = Plotly;\n",
              "        });\n",
              "        }\n",
              "        </script>\n",
              "        "
            ]
          },
          "metadata": {
            "tags": []
          }
        }
      ]
    },
    {
      "cell_type": "markdown",
      "metadata": {
        "id": "wjQ7hCYJsiSh",
        "colab_type": "text"
      },
      "source": [
        ""
      ]
    },
    {
      "cell_type": "code",
      "metadata": {
        "id": "5t0ZUNr6f-Dd",
        "colab_type": "code",
        "outputId": "3e9b26bc-6bca-4553-8fba-8b4c7133d17c",
        "colab": {
          "base_uri": "https://localhost:8080/",
          "height": 241
        }
      },
      "source": [
        "!pip install keras_metrics"
      ],
      "execution_count": 2,
      "outputs": [
        {
          "output_type": "stream",
          "text": [
            "Collecting keras_metrics\n",
            "  Downloading https://files.pythonhosted.org/packages/32/c9/a87420da8e73de944e63a8e9cdcfb1f03ca31a7c4cdcdbd45d2cdf13275a/keras_metrics-1.1.0-py2.py3-none-any.whl\n",
            "Requirement already satisfied: Keras>=2.1.5 in /usr/local/lib/python3.6/dist-packages (from keras_metrics) (2.2.5)\n",
            "Requirement already satisfied: keras-preprocessing>=1.1.0 in /usr/local/lib/python3.6/dist-packages (from Keras>=2.1.5->keras_metrics) (1.1.0)\n",
            "Requirement already satisfied: six>=1.9.0 in /usr/local/lib/python3.6/dist-packages (from Keras>=2.1.5->keras_metrics) (1.12.0)\n",
            "Requirement already satisfied: pyyaml in /usr/local/lib/python3.6/dist-packages (from Keras>=2.1.5->keras_metrics) (3.13)\n",
            "Requirement already satisfied: scipy>=0.14 in /usr/local/lib/python3.6/dist-packages (from Keras>=2.1.5->keras_metrics) (1.4.1)\n",
            "Requirement already satisfied: numpy>=1.9.1 in /usr/local/lib/python3.6/dist-packages (from Keras>=2.1.5->keras_metrics) (1.17.5)\n",
            "Requirement already satisfied: h5py in /usr/local/lib/python3.6/dist-packages (from Keras>=2.1.5->keras_metrics) (2.8.0)\n",
            "Requirement already satisfied: keras-applications>=1.0.8 in /usr/local/lib/python3.6/dist-packages (from Keras>=2.1.5->keras_metrics) (1.0.8)\n",
            "Installing collected packages: keras-metrics\n",
            "Successfully installed keras-metrics-1.1.0\n"
          ],
          "name": "stdout"
        }
      ]
    },
    {
      "cell_type": "markdown",
      "metadata": {
        "id": "lMRIdnF3ErUV",
        "colab_type": "text"
      },
      "source": [
        "Loading the dataset\n"
      ]
    },
    {
      "cell_type": "code",
      "metadata": {
        "id": "9dL4vRnxsmAM",
        "colab_type": "code",
        "outputId": "7f5ad62a-de57-406c-d8fa-bcac783f2640",
        "colab": {
          "base_uri": "https://localhost:8080/",
          "height": 419
        }
      },
      "source": [
        "#olidData=pd.read_csv('olid-training-v1.0.tsv', sep='\\t')\n",
        "olidData=pd.read_csv('training_data.tsv', sep='\\t')\n",
        "#olidData['mergedSubTasks'] = olidData[['subtask_a', 'subtask_b', 'subtask_c']].apply(lambda x: ', '.join(x[x.notnull()]), axis = 1)\n",
        "olidData"
      ],
      "execution_count": 4,
      "outputs": [
        {
          "output_type": "execute_result",
          "data": {
            "text/html": [
              "<div>\n",
              "<style scoped>\n",
              "    .dataframe tbody tr th:only-of-type {\n",
              "        vertical-align: middle;\n",
              "    }\n",
              "\n",
              "    .dataframe tbody tr th {\n",
              "        vertical-align: top;\n",
              "    }\n",
              "\n",
              "    .dataframe thead th {\n",
              "        text-align: right;\n",
              "    }\n",
              "</style>\n",
              "<table border=\"1\" class=\"dataframe\">\n",
              "  <thead>\n",
              "    <tr style=\"text-align: right;\">\n",
              "      <th></th>\n",
              "      <th>id</th>\n",
              "      <th>text</th>\n",
              "      <th>actual_label</th>\n",
              "    </tr>\n",
              "  </thead>\n",
              "  <tbody>\n",
              "    <tr>\n",
              "      <th>0</th>\n",
              "      <td>1186892495466057729</td>\n",
              "      <td>Idc what anyone says I will never pay $7 for a...</td>\n",
              "      <td>NOT</td>\n",
              "    </tr>\n",
              "    <tr>\n",
              "      <th>1</th>\n",
              "      <td>1187874856047542272</td>\n",
              "      <td>@USER Turn it off. It's way more trouble then ...</td>\n",
              "      <td>NOT</td>\n",
              "    </tr>\n",
              "    <tr>\n",
              "      <th>2</th>\n",
              "      <td>1158012106672869376</td>\n",
              "      <td>You are the most beautiful young lady being I'...</td>\n",
              "      <td>NOT</td>\n",
              "    </tr>\n",
              "    <tr>\n",
              "      <th>3</th>\n",
              "      <td>1158240390371299329</td>\n",
              "      <td>cat #2 is finally done pouting after i cut her...</td>\n",
              "      <td>NOT</td>\n",
              "    </tr>\n",
              "    <tr>\n",
              "      <th>4</th>\n",
              "      <td>1162167449573154821</td>\n",
              "      <td>Hello crush Please don't be inlove with someon...</td>\n",
              "      <td>NOT</td>\n",
              "    </tr>\n",
              "    <tr>\n",
              "      <th>...</th>\n",
              "      <td>...</td>\n",
              "      <td>...</td>\n",
              "      <td>...</td>\n",
              "    </tr>\n",
              "    <tr>\n",
              "      <th>991257</th>\n",
              "      <td>1188008936437436417</td>\n",
              "      <td>@USER Yep we are one of two main benefactors  ...</td>\n",
              "      <td>NOT</td>\n",
              "    </tr>\n",
              "    <tr>\n",
              "      <th>991258</th>\n",
              "      <td>1156380291499515904</td>\n",
              "      <td>@USER How the fuck does stuff like that happen??</td>\n",
              "      <td>OFF, TIN, IND</td>\n",
              "    </tr>\n",
              "    <tr>\n",
              "      <th>991259</th>\n",
              "      <td>1187809616664633347</td>\n",
              "      <td>@USER @USER Sick bastard. Making fun of killin...</td>\n",
              "      <td>OFF, TIN, IND</td>\n",
              "    </tr>\n",
              "    <tr>\n",
              "      <th>991260</th>\n",
              "      <td>1160340145406537731</td>\n",
              "      <td>@USER His story just same with me then :\"</td>\n",
              "      <td>NOT</td>\n",
              "    </tr>\n",
              "    <tr>\n",
              "      <th>991261</th>\n",
              "      <td>1187267153948372992</td>\n",
              "      <td>@USER You know the worst part about police bru...</td>\n",
              "      <td>NOT</td>\n",
              "    </tr>\n",
              "  </tbody>\n",
              "</table>\n",
              "<p>991262 rows × 3 columns</p>\n",
              "</div>"
            ],
            "text/plain": [
              "                         id  ...   actual_label\n",
              "0       1186892495466057729  ...            NOT\n",
              "1       1187874856047542272  ...            NOT\n",
              "2       1158012106672869376  ...            NOT\n",
              "3       1158240390371299329  ...            NOT\n",
              "4       1162167449573154821  ...            NOT\n",
              "...                     ...  ...            ...\n",
              "991257  1188008936437436417  ...            NOT\n",
              "991258  1156380291499515904  ...  OFF, TIN, IND\n",
              "991259  1187809616664633347  ...  OFF, TIN, IND\n",
              "991260  1160340145406537731  ...            NOT\n",
              "991261  1187267153948372992  ...            NOT\n",
              "\n",
              "[991262 rows x 3 columns]"
            ]
          },
          "metadata": {
            "tags": []
          },
          "execution_count": 4
        }
      ]
    },
    {
      "cell_type": "code",
      "metadata": {
        "id": "mJtFcMMyUDyd",
        "colab_type": "code",
        "colab": {}
      },
      "source": [
        "testData=pd.read_csv('olid-training-v1.0.tsv', sep='\\t')\n",
        "testData['actual_label'] = olidData[['subtask_a', 'subtask_b', 'subtask_c']].apply(lambda x: ', '.join(x[x.notnull()]), axis = 1)\n",
        "testData"
      ],
      "execution_count": 0,
      "outputs": []
    },
    {
      "cell_type": "markdown",
      "metadata": {
        "id": "g0RSRH5REzQv",
        "colab_type": "text"
      },
      "source": [
        "Cleaning dataset\n"
      ]
    },
    {
      "cell_type": "code",
      "metadata": {
        "id": "q2SP8xVIs_5U",
        "colab_type": "code",
        "outputId": "8c646332-f946-4a5a-a6b9-b17e30c047fb",
        "colab": {
          "base_uri": "https://localhost:8080/",
          "height": 613
        }
      },
      "source": [
        "nlp = spacy.load(\"en_core_web_sm\")\n",
        "olidData = olidData.reset_index(drop=True)\n",
        "re_space = re.compile('[/(){}\\[\\]\\|@,;]')\n",
        "re_symbols = re.compile('[^0-9a-z #+_]')\n",
        "stop_words = set(stopwords.words('english'))\n",
        "re_user=re.compile('(?<=^|(?<=[^a-zA-Z0-9-_\\.]))@([A-Za-z]+[A-Za-z0-9-_]+)')\n",
        "\n",
        "def clean_text(text):\n",
        "    text=re_user.sub('Person', text)\n",
        "    lower = text.lower()\n",
        "    space_replace = re_space.sub(\" \",lower)\n",
        "    nosymb = re_symbols.sub(\"\",space_replace)\n",
        "    text = re.sub(r\"\\s*\\b(?:{})\\b\".format(\"|\".join(stop_words)), \"\", nosymb)\n",
        "    doc = nlp(text)\n",
        "    for entity in doc.ents:\n",
        "      if entity.label_==\"PERSON\" or entity.label_==\"NORP\" or entity.label_==\"ORG\" or entity.label_==\"GPE\":\n",
        "          text=text.replace(entity.text, entity.label_)\n",
        "    return re.sub(r\" {2,}\", \" \", text.strip())\n",
        "\n",
        "olidData['text'] = olidData['text'].apply(clean_text)\n",
        "olidData\n",
        "#a=clean_text(olidData.iloc[13238].tweet)\n",
        "#a"
      ],
      "execution_count": 5,
      "outputs": [
        {
          "output_type": "error",
          "ename": "KeyboardInterrupt",
          "evalue": "ignored",
          "traceback": [
            "\u001b[0;31m---------------------------------------------------------------------------\u001b[0m",
            "\u001b[0;31mKeyboardInterrupt\u001b[0m                         Traceback (most recent call last)",
            "\u001b[0;32m<ipython-input-5-adfab6ca4eea>\u001b[0m in \u001b[0;36m<module>\u001b[0;34m()\u001b[0m\n\u001b[1;32m     18\u001b[0m     \u001b[0;32mreturn\u001b[0m \u001b[0mre\u001b[0m\u001b[0;34m.\u001b[0m\u001b[0msub\u001b[0m\u001b[0;34m(\u001b[0m\u001b[0;34mr\" {2,}\"\u001b[0m\u001b[0;34m,\u001b[0m \u001b[0;34m\" \"\u001b[0m\u001b[0;34m,\u001b[0m \u001b[0mtext\u001b[0m\u001b[0;34m.\u001b[0m\u001b[0mstrip\u001b[0m\u001b[0;34m(\u001b[0m\u001b[0;34m)\u001b[0m\u001b[0;34m)\u001b[0m\u001b[0;34m\u001b[0m\u001b[0;34m\u001b[0m\u001b[0m\n\u001b[1;32m     19\u001b[0m \u001b[0;34m\u001b[0m\u001b[0m\n\u001b[0;32m---> 20\u001b[0;31m \u001b[0molidData\u001b[0m\u001b[0;34m[\u001b[0m\u001b[0;34m'text'\u001b[0m\u001b[0;34m]\u001b[0m \u001b[0;34m=\u001b[0m \u001b[0molidData\u001b[0m\u001b[0;34m[\u001b[0m\u001b[0;34m'text'\u001b[0m\u001b[0;34m]\u001b[0m\u001b[0;34m.\u001b[0m\u001b[0mapply\u001b[0m\u001b[0;34m(\u001b[0m\u001b[0mclean_text\u001b[0m\u001b[0;34m)\u001b[0m\u001b[0;34m\u001b[0m\u001b[0;34m\u001b[0m\u001b[0m\n\u001b[0m\u001b[1;32m     21\u001b[0m \u001b[0molidData\u001b[0m\u001b[0;34m\u001b[0m\u001b[0;34m\u001b[0m\u001b[0m\n\u001b[1;32m     22\u001b[0m \u001b[0;31m#a=clean_text(olidData.iloc[13238].tweet)\u001b[0m\u001b[0;34m\u001b[0m\u001b[0;34m\u001b[0m\u001b[0;34m\u001b[0m\u001b[0m\n",
            "\u001b[0;32m/usr/local/lib/python3.6/dist-packages/pandas/core/series.py\u001b[0m in \u001b[0;36mapply\u001b[0;34m(self, func, convert_dtype, args, **kwds)\u001b[0m\n\u001b[1;32m   4043\u001b[0m             \u001b[0;32melse\u001b[0m\u001b[0;34m:\u001b[0m\u001b[0;34m\u001b[0m\u001b[0;34m\u001b[0m\u001b[0m\n\u001b[1;32m   4044\u001b[0m                 \u001b[0mvalues\u001b[0m \u001b[0;34m=\u001b[0m \u001b[0mself\u001b[0m\u001b[0;34m.\u001b[0m\u001b[0mastype\u001b[0m\u001b[0;34m(\u001b[0m\u001b[0mobject\u001b[0m\u001b[0;34m)\u001b[0m\u001b[0;34m.\u001b[0m\u001b[0mvalues\u001b[0m\u001b[0;34m\u001b[0m\u001b[0;34m\u001b[0m\u001b[0m\n\u001b[0;32m-> 4045\u001b[0;31m                 \u001b[0mmapped\u001b[0m \u001b[0;34m=\u001b[0m \u001b[0mlib\u001b[0m\u001b[0;34m.\u001b[0m\u001b[0mmap_infer\u001b[0m\u001b[0;34m(\u001b[0m\u001b[0mvalues\u001b[0m\u001b[0;34m,\u001b[0m \u001b[0mf\u001b[0m\u001b[0;34m,\u001b[0m \u001b[0mconvert\u001b[0m\u001b[0;34m=\u001b[0m\u001b[0mconvert_dtype\u001b[0m\u001b[0;34m)\u001b[0m\u001b[0;34m\u001b[0m\u001b[0;34m\u001b[0m\u001b[0m\n\u001b[0m\u001b[1;32m   4046\u001b[0m \u001b[0;34m\u001b[0m\u001b[0m\n\u001b[1;32m   4047\u001b[0m         \u001b[0;32mif\u001b[0m \u001b[0mlen\u001b[0m\u001b[0;34m(\u001b[0m\u001b[0mmapped\u001b[0m\u001b[0;34m)\u001b[0m \u001b[0;32mand\u001b[0m \u001b[0misinstance\u001b[0m\u001b[0;34m(\u001b[0m\u001b[0mmapped\u001b[0m\u001b[0;34m[\u001b[0m\u001b[0;36m0\u001b[0m\u001b[0;34m]\u001b[0m\u001b[0;34m,\u001b[0m \u001b[0mSeries\u001b[0m\u001b[0;34m)\u001b[0m\u001b[0;34m:\u001b[0m\u001b[0;34m\u001b[0m\u001b[0;34m\u001b[0m\u001b[0m\n",
            "\u001b[0;32mpandas/_libs/lib.pyx\u001b[0m in \u001b[0;36mpandas._libs.lib.map_infer\u001b[0;34m()\u001b[0m\n",
            "\u001b[0;32m<ipython-input-5-adfab6ca4eea>\u001b[0m in \u001b[0;36mclean_text\u001b[0;34m(text)\u001b[0m\n\u001b[1;32m     12\u001b[0m     \u001b[0mnosymb\u001b[0m \u001b[0;34m=\u001b[0m \u001b[0mre_symbols\u001b[0m\u001b[0;34m.\u001b[0m\u001b[0msub\u001b[0m\u001b[0;34m(\u001b[0m\u001b[0;34m\"\"\u001b[0m\u001b[0;34m,\u001b[0m\u001b[0mspace_replace\u001b[0m\u001b[0;34m)\u001b[0m\u001b[0;34m\u001b[0m\u001b[0;34m\u001b[0m\u001b[0m\n\u001b[1;32m     13\u001b[0m     \u001b[0mtext\u001b[0m \u001b[0;34m=\u001b[0m \u001b[0mre\u001b[0m\u001b[0;34m.\u001b[0m\u001b[0msub\u001b[0m\u001b[0;34m(\u001b[0m\u001b[0;34mr\"\\s*\\b(?:{})\\b\"\u001b[0m\u001b[0;34m.\u001b[0m\u001b[0mformat\u001b[0m\u001b[0;34m(\u001b[0m\u001b[0;34m\"|\"\u001b[0m\u001b[0;34m.\u001b[0m\u001b[0mjoin\u001b[0m\u001b[0;34m(\u001b[0m\u001b[0mstop_words\u001b[0m\u001b[0;34m)\u001b[0m\u001b[0;34m)\u001b[0m\u001b[0;34m,\u001b[0m \u001b[0;34m\"\"\u001b[0m\u001b[0;34m,\u001b[0m \u001b[0mnosymb\u001b[0m\u001b[0;34m)\u001b[0m\u001b[0;34m\u001b[0m\u001b[0;34m\u001b[0m\u001b[0m\n\u001b[0;32m---> 14\u001b[0;31m     \u001b[0mdoc\u001b[0m \u001b[0;34m=\u001b[0m \u001b[0mnlp\u001b[0m\u001b[0;34m(\u001b[0m\u001b[0mtext\u001b[0m\u001b[0;34m)\u001b[0m\u001b[0;34m\u001b[0m\u001b[0;34m\u001b[0m\u001b[0m\n\u001b[0m\u001b[1;32m     15\u001b[0m     \u001b[0;32mfor\u001b[0m \u001b[0mentity\u001b[0m \u001b[0;32min\u001b[0m \u001b[0mdoc\u001b[0m\u001b[0;34m.\u001b[0m\u001b[0ments\u001b[0m\u001b[0;34m:\u001b[0m\u001b[0;34m\u001b[0m\u001b[0;34m\u001b[0m\u001b[0m\n\u001b[1;32m     16\u001b[0m       \u001b[0;32mif\u001b[0m \u001b[0mentity\u001b[0m\u001b[0;34m.\u001b[0m\u001b[0mlabel_\u001b[0m\u001b[0;34m==\u001b[0m\u001b[0;34m\"PERSON\"\u001b[0m \u001b[0;32mor\u001b[0m \u001b[0mentity\u001b[0m\u001b[0;34m.\u001b[0m\u001b[0mlabel_\u001b[0m\u001b[0;34m==\u001b[0m\u001b[0;34m\"NORP\"\u001b[0m \u001b[0;32mor\u001b[0m \u001b[0mentity\u001b[0m\u001b[0;34m.\u001b[0m\u001b[0mlabel_\u001b[0m\u001b[0;34m==\u001b[0m\u001b[0;34m\"ORG\"\u001b[0m \u001b[0;32mor\u001b[0m \u001b[0mentity\u001b[0m\u001b[0;34m.\u001b[0m\u001b[0mlabel_\u001b[0m\u001b[0;34m==\u001b[0m\u001b[0;34m\"GPE\"\u001b[0m\u001b[0;34m:\u001b[0m\u001b[0;34m\u001b[0m\u001b[0;34m\u001b[0m\u001b[0m\n",
            "\u001b[0;32m/usr/local/lib/python3.6/dist-packages/spacy/language.py\u001b[0m in \u001b[0;36m__call__\u001b[0;34m(self, text, disable, component_cfg)\u001b[0m\n\u001b[1;32m    400\u001b[0m             \u001b[0;32mif\u001b[0m \u001b[0;32mnot\u001b[0m \u001b[0mhasattr\u001b[0m\u001b[0;34m(\u001b[0m\u001b[0mproc\u001b[0m\u001b[0;34m,\u001b[0m \u001b[0;34m\"__call__\"\u001b[0m\u001b[0;34m)\u001b[0m\u001b[0;34m:\u001b[0m\u001b[0;34m\u001b[0m\u001b[0;34m\u001b[0m\u001b[0m\n\u001b[1;32m    401\u001b[0m                 \u001b[0;32mraise\u001b[0m \u001b[0mValueError\u001b[0m\u001b[0;34m(\u001b[0m\u001b[0mErrors\u001b[0m\u001b[0;34m.\u001b[0m\u001b[0mE003\u001b[0m\u001b[0;34m.\u001b[0m\u001b[0mformat\u001b[0m\u001b[0;34m(\u001b[0m\u001b[0mcomponent\u001b[0m\u001b[0;34m=\u001b[0m\u001b[0mtype\u001b[0m\u001b[0;34m(\u001b[0m\u001b[0mproc\u001b[0m\u001b[0;34m)\u001b[0m\u001b[0;34m,\u001b[0m \u001b[0mname\u001b[0m\u001b[0;34m=\u001b[0m\u001b[0mname\u001b[0m\u001b[0;34m)\u001b[0m\u001b[0;34m)\u001b[0m\u001b[0;34m\u001b[0m\u001b[0;34m\u001b[0m\u001b[0m\n\u001b[0;32m--> 402\u001b[0;31m             \u001b[0mdoc\u001b[0m \u001b[0;34m=\u001b[0m \u001b[0mproc\u001b[0m\u001b[0;34m(\u001b[0m\u001b[0mdoc\u001b[0m\u001b[0;34m,\u001b[0m \u001b[0;34m**\u001b[0m\u001b[0mcomponent_cfg\u001b[0m\u001b[0;34m.\u001b[0m\u001b[0mget\u001b[0m\u001b[0;34m(\u001b[0m\u001b[0mname\u001b[0m\u001b[0;34m,\u001b[0m \u001b[0;34m{\u001b[0m\u001b[0;34m}\u001b[0m\u001b[0;34m)\u001b[0m\u001b[0;34m)\u001b[0m\u001b[0;34m\u001b[0m\u001b[0;34m\u001b[0m\u001b[0m\n\u001b[0m\u001b[1;32m    403\u001b[0m             \u001b[0;32mif\u001b[0m \u001b[0mdoc\u001b[0m \u001b[0;32mis\u001b[0m \u001b[0;32mNone\u001b[0m\u001b[0;34m:\u001b[0m\u001b[0;34m\u001b[0m\u001b[0;34m\u001b[0m\u001b[0m\n\u001b[1;32m    404\u001b[0m                 \u001b[0;32mraise\u001b[0m \u001b[0mValueError\u001b[0m\u001b[0;34m(\u001b[0m\u001b[0mErrors\u001b[0m\u001b[0;34m.\u001b[0m\u001b[0mE005\u001b[0m\u001b[0;34m.\u001b[0m\u001b[0mformat\u001b[0m\u001b[0;34m(\u001b[0m\u001b[0mname\u001b[0m\u001b[0;34m=\u001b[0m\u001b[0mname\u001b[0m\u001b[0;34m)\u001b[0m\u001b[0;34m)\u001b[0m\u001b[0;34m\u001b[0m\u001b[0;34m\u001b[0m\u001b[0m\n",
            "\u001b[0;32mnn_parser.pyx\u001b[0m in \u001b[0;36mspacy.syntax.nn_parser.Parser.__call__\u001b[0;34m()\u001b[0m\n",
            "\u001b[0;32mnn_parser.pyx\u001b[0m in \u001b[0;36mspacy.syntax.nn_parser.Parser.predict\u001b[0;34m()\u001b[0m\n",
            "\u001b[0;32mnn_parser.pyx\u001b[0m in \u001b[0;36mspacy.syntax.nn_parser.Parser.greedy_parse\u001b[0;34m()\u001b[0m\n",
            "\u001b[0;32m/usr/local/lib/python3.6/dist-packages/thinc/neural/_classes/model.py\u001b[0m in \u001b[0;36m__call__\u001b[0;34m(self, x)\u001b[0m\n\u001b[1;32m    167\u001b[0m             \u001b[0mMust\u001b[0m \u001b[0mmatch\u001b[0m \u001b[0mexpected\u001b[0m \u001b[0mshape\u001b[0m\u001b[0;34m\u001b[0m\u001b[0;34m\u001b[0m\u001b[0m\n\u001b[1;32m    168\u001b[0m         \"\"\"\n\u001b[0;32m--> 169\u001b[0;31m         \u001b[0;32mreturn\u001b[0m \u001b[0mself\u001b[0m\u001b[0;34m.\u001b[0m\u001b[0mpredict\u001b[0m\u001b[0;34m(\u001b[0m\u001b[0mx\u001b[0m\u001b[0;34m)\u001b[0m\u001b[0;34m\u001b[0m\u001b[0;34m\u001b[0m\u001b[0m\n\u001b[0m\u001b[1;32m    170\u001b[0m \u001b[0;34m\u001b[0m\u001b[0m\n\u001b[1;32m    171\u001b[0m     \u001b[0;32mdef\u001b[0m \u001b[0mpipe\u001b[0m\u001b[0;34m(\u001b[0m\u001b[0mself\u001b[0m\u001b[0;34m,\u001b[0m \u001b[0mstream\u001b[0m\u001b[0;34m,\u001b[0m \u001b[0mbatch_size\u001b[0m\u001b[0;34m=\u001b[0m\u001b[0;36m128\u001b[0m\u001b[0;34m)\u001b[0m\u001b[0;34m:\u001b[0m\u001b[0;34m\u001b[0m\u001b[0;34m\u001b[0m\u001b[0m\n",
            "\u001b[0;32m/usr/local/lib/python3.6/dist-packages/thinc/neural/_classes/model.py\u001b[0m in \u001b[0;36mpredict\u001b[0;34m(self, X)\u001b[0m\n\u001b[1;32m    131\u001b[0m \u001b[0;34m\u001b[0m\u001b[0m\n\u001b[1;32m    132\u001b[0m     \u001b[0;32mdef\u001b[0m \u001b[0mpredict\u001b[0m\u001b[0;34m(\u001b[0m\u001b[0mself\u001b[0m\u001b[0;34m,\u001b[0m \u001b[0mX\u001b[0m\u001b[0;34m)\u001b[0m\u001b[0;34m:\u001b[0m\u001b[0;34m\u001b[0m\u001b[0;34m\u001b[0m\u001b[0m\n\u001b[0;32m--> 133\u001b[0;31m         \u001b[0my\u001b[0m\u001b[0;34m,\u001b[0m \u001b[0m_\u001b[0m \u001b[0;34m=\u001b[0m \u001b[0mself\u001b[0m\u001b[0;34m.\u001b[0m\u001b[0mbegin_update\u001b[0m\u001b[0;34m(\u001b[0m\u001b[0mX\u001b[0m\u001b[0;34m,\u001b[0m \u001b[0mdrop\u001b[0m\u001b[0;34m=\u001b[0m\u001b[0;32mNone\u001b[0m\u001b[0;34m)\u001b[0m\u001b[0;34m\u001b[0m\u001b[0;34m\u001b[0m\u001b[0m\n\u001b[0m\u001b[1;32m    134\u001b[0m         \u001b[0;32mreturn\u001b[0m \u001b[0my\u001b[0m\u001b[0;34m\u001b[0m\u001b[0;34m\u001b[0m\u001b[0m\n\u001b[1;32m    135\u001b[0m \u001b[0;34m\u001b[0m\u001b[0m\n",
            "\u001b[0;32m_parser_model.pyx\u001b[0m in \u001b[0;36mspacy.syntax._parser_model.ParserModel.begin_update\u001b[0;34m()\u001b[0m\n",
            "\u001b[0;32m_parser_model.pyx\u001b[0m in \u001b[0;36mspacy.syntax._parser_model.ParserStepModel.__init__\u001b[0;34m()\u001b[0m\n",
            "\u001b[0;32m/usr/local/lib/python3.6/dist-packages/thinc/neural/_classes/feed_forward.py\u001b[0m in \u001b[0;36mbegin_update\u001b[0;34m(self, X, drop)\u001b[0m\n\u001b[1;32m     44\u001b[0m         \u001b[0mcallbacks\u001b[0m \u001b[0;34m=\u001b[0m \u001b[0;34m[\u001b[0m\u001b[0;34m]\u001b[0m\u001b[0;34m\u001b[0m\u001b[0;34m\u001b[0m\u001b[0m\n\u001b[1;32m     45\u001b[0m         \u001b[0;32mfor\u001b[0m \u001b[0mlayer\u001b[0m \u001b[0;32min\u001b[0m \u001b[0mself\u001b[0m\u001b[0;34m.\u001b[0m\u001b[0m_layers\u001b[0m\u001b[0;34m:\u001b[0m\u001b[0;34m\u001b[0m\u001b[0;34m\u001b[0m\u001b[0m\n\u001b[0;32m---> 46\u001b[0;31m             \u001b[0mX\u001b[0m\u001b[0;34m,\u001b[0m \u001b[0minc_layer_grad\u001b[0m \u001b[0;34m=\u001b[0m \u001b[0mlayer\u001b[0m\u001b[0;34m.\u001b[0m\u001b[0mbegin_update\u001b[0m\u001b[0;34m(\u001b[0m\u001b[0mX\u001b[0m\u001b[0;34m,\u001b[0m \u001b[0mdrop\u001b[0m\u001b[0;34m=\u001b[0m\u001b[0mdrop\u001b[0m\u001b[0;34m)\u001b[0m\u001b[0;34m\u001b[0m\u001b[0;34m\u001b[0m\u001b[0m\n\u001b[0m\u001b[1;32m     47\u001b[0m             \u001b[0mcallbacks\u001b[0m\u001b[0;34m.\u001b[0m\u001b[0mappend\u001b[0m\u001b[0;34m(\u001b[0m\u001b[0minc_layer_grad\u001b[0m\u001b[0;34m)\u001b[0m\u001b[0;34m\u001b[0m\u001b[0;34m\u001b[0m\u001b[0m\n\u001b[1;32m     48\u001b[0m \u001b[0;34m\u001b[0m\u001b[0m\n",
            "\u001b[0;32m/usr/local/lib/python3.6/dist-packages/thinc/neural/_classes/feature_extracter.py\u001b[0m in \u001b[0;36mbegin_update\u001b[0;34m(self, docs, drop)\u001b[0m\n\u001b[1;32m     12\u001b[0m     \u001b[0;32mdef\u001b[0m \u001b[0mbegin_update\u001b[0m\u001b[0;34m(\u001b[0m\u001b[0mself\u001b[0m\u001b[0;34m,\u001b[0m \u001b[0mdocs\u001b[0m\u001b[0;34m,\u001b[0m \u001b[0mdrop\u001b[0m\u001b[0;34m=\u001b[0m\u001b[0;36m0.0\u001b[0m\u001b[0;34m)\u001b[0m\u001b[0;34m:\u001b[0m\u001b[0;34m\u001b[0m\u001b[0;34m\u001b[0m\u001b[0m\n\u001b[1;32m     13\u001b[0m         \u001b[0;31m# Handle spans\u001b[0m\u001b[0;34m\u001b[0m\u001b[0;34m\u001b[0m\u001b[0;34m\u001b[0m\u001b[0m\n\u001b[0;32m---> 14\u001b[0;31m         \u001b[0mfeatures\u001b[0m \u001b[0;34m=\u001b[0m \u001b[0;34m[\u001b[0m\u001b[0mself\u001b[0m\u001b[0;34m.\u001b[0m\u001b[0m_get_feats\u001b[0m\u001b[0;34m(\u001b[0m\u001b[0mdoc\u001b[0m\u001b[0;34m)\u001b[0m \u001b[0;32mfor\u001b[0m \u001b[0mdoc\u001b[0m \u001b[0;32min\u001b[0m \u001b[0mdocs\u001b[0m\u001b[0;34m]\u001b[0m\u001b[0;34m\u001b[0m\u001b[0;34m\u001b[0m\u001b[0m\n\u001b[0m\u001b[1;32m     15\u001b[0m         \u001b[0;32mreturn\u001b[0m \u001b[0mfeatures\u001b[0m\u001b[0;34m,\u001b[0m \u001b[0m_feature_extracter_bwd\u001b[0m\u001b[0;34m\u001b[0m\u001b[0;34m\u001b[0m\u001b[0m\n\u001b[1;32m     16\u001b[0m \u001b[0;34m\u001b[0m\u001b[0m\n",
            "\u001b[0;32m/usr/local/lib/python3.6/dist-packages/thinc/neural/_classes/feature_extracter.py\u001b[0m in \u001b[0;36m<listcomp>\u001b[0;34m(.0)\u001b[0m\n\u001b[1;32m     12\u001b[0m     \u001b[0;32mdef\u001b[0m \u001b[0mbegin_update\u001b[0m\u001b[0;34m(\u001b[0m\u001b[0mself\u001b[0m\u001b[0;34m,\u001b[0m \u001b[0mdocs\u001b[0m\u001b[0;34m,\u001b[0m \u001b[0mdrop\u001b[0m\u001b[0;34m=\u001b[0m\u001b[0;36m0.0\u001b[0m\u001b[0;34m)\u001b[0m\u001b[0;34m:\u001b[0m\u001b[0;34m\u001b[0m\u001b[0;34m\u001b[0m\u001b[0m\n\u001b[1;32m     13\u001b[0m         \u001b[0;31m# Handle spans\u001b[0m\u001b[0;34m\u001b[0m\u001b[0;34m\u001b[0m\u001b[0;34m\u001b[0m\u001b[0m\n\u001b[0;32m---> 14\u001b[0;31m         \u001b[0mfeatures\u001b[0m \u001b[0;34m=\u001b[0m \u001b[0;34m[\u001b[0m\u001b[0mself\u001b[0m\u001b[0;34m.\u001b[0m\u001b[0m_get_feats\u001b[0m\u001b[0;34m(\u001b[0m\u001b[0mdoc\u001b[0m\u001b[0;34m)\u001b[0m \u001b[0;32mfor\u001b[0m \u001b[0mdoc\u001b[0m \u001b[0;32min\u001b[0m \u001b[0mdocs\u001b[0m\u001b[0;34m]\u001b[0m\u001b[0;34m\u001b[0m\u001b[0;34m\u001b[0m\u001b[0m\n\u001b[0m\u001b[1;32m     15\u001b[0m         \u001b[0;32mreturn\u001b[0m \u001b[0mfeatures\u001b[0m\u001b[0;34m,\u001b[0m \u001b[0m_feature_extracter_bwd\u001b[0m\u001b[0;34m\u001b[0m\u001b[0;34m\u001b[0m\u001b[0m\n\u001b[1;32m     16\u001b[0m \u001b[0;34m\u001b[0m\u001b[0m\n",
            "\u001b[0;32m/usr/local/lib/python3.6/dist-packages/thinc/neural/_classes/feature_extracter.py\u001b[0m in \u001b[0;36m_get_feats\u001b[0;34m(self, doc)\u001b[0m\n\u001b[1;32m     20\u001b[0m         \u001b[0;32melse\u001b[0m\u001b[0;34m:\u001b[0m\u001b[0;34m\u001b[0m\u001b[0;34m\u001b[0m\u001b[0m\n\u001b[1;32m     21\u001b[0m             \u001b[0marr\u001b[0m \u001b[0;34m=\u001b[0m \u001b[0mdoc\u001b[0m\u001b[0;34m.\u001b[0m\u001b[0mdoc\u001b[0m\u001b[0;34m.\u001b[0m\u001b[0mto_array\u001b[0m\u001b[0;34m(\u001b[0m\u001b[0mself\u001b[0m\u001b[0;34m.\u001b[0m\u001b[0mattrs\u001b[0m\u001b[0;34m)\u001b[0m\u001b[0;34m[\u001b[0m\u001b[0mdoc\u001b[0m\u001b[0;34m.\u001b[0m\u001b[0mstart\u001b[0m \u001b[0;34m:\u001b[0m \u001b[0mdoc\u001b[0m\u001b[0;34m.\u001b[0m\u001b[0mend\u001b[0m\u001b[0;34m]\u001b[0m\u001b[0;34m\u001b[0m\u001b[0;34m\u001b[0m\u001b[0m\n\u001b[0;32m---> 22\u001b[0;31m         \u001b[0;32mreturn\u001b[0m \u001b[0mself\u001b[0m\u001b[0;34m.\u001b[0m\u001b[0mops\u001b[0m\u001b[0;34m.\u001b[0m\u001b[0masarray\u001b[0m\u001b[0;34m(\u001b[0m\u001b[0marr\u001b[0m\u001b[0;34m,\u001b[0m \u001b[0mdtype\u001b[0m\u001b[0;34m=\u001b[0m\u001b[0;34m\"uint64\"\u001b[0m\u001b[0;34m)\u001b[0m\u001b[0;34m\u001b[0m\u001b[0;34m\u001b[0m\u001b[0m\n\u001b[0m\u001b[1;32m     23\u001b[0m \u001b[0;34m\u001b[0m\u001b[0m\n\u001b[1;32m     24\u001b[0m \u001b[0;34m\u001b[0m\u001b[0m\n",
            "\u001b[0;32mops.pyx\u001b[0m in \u001b[0;36mthinc.neural.ops.Ops.asarray\u001b[0;34m()\u001b[0m\n",
            "\u001b[0;32m/usr/local/lib/python3.6/dist-packages/numpy/core/_asarray.py\u001b[0m in \u001b[0;36masarray\u001b[0;34m(a, dtype, order)\u001b[0m\n\u001b[1;32m     83\u001b[0m \u001b[0;34m\u001b[0m\u001b[0m\n\u001b[1;32m     84\u001b[0m     \"\"\"\n\u001b[0;32m---> 85\u001b[0;31m     \u001b[0;32mreturn\u001b[0m \u001b[0marray\u001b[0m\u001b[0;34m(\u001b[0m\u001b[0ma\u001b[0m\u001b[0;34m,\u001b[0m \u001b[0mdtype\u001b[0m\u001b[0;34m,\u001b[0m \u001b[0mcopy\u001b[0m\u001b[0;34m=\u001b[0m\u001b[0;32mFalse\u001b[0m\u001b[0;34m,\u001b[0m \u001b[0morder\u001b[0m\u001b[0;34m=\u001b[0m\u001b[0morder\u001b[0m\u001b[0;34m)\u001b[0m\u001b[0;34m\u001b[0m\u001b[0;34m\u001b[0m\u001b[0m\n\u001b[0m\u001b[1;32m     86\u001b[0m \u001b[0;34m\u001b[0m\u001b[0m\n\u001b[1;32m     87\u001b[0m \u001b[0;34m\u001b[0m\u001b[0m\n",
            "\u001b[0;31mKeyboardInterrupt\u001b[0m: "
          ]
        }
      ]
    },
    {
      "cell_type": "code",
      "metadata": {
        "id": "trQPmxA7bDyz",
        "colab_type": "code",
        "colab": {}
      },
      "source": [
        ""
      ],
      "execution_count": 0,
      "outputs": []
    },
    {
      "cell_type": "code",
      "metadata": {
        "id": "WWazSJYlzc-8",
        "colab_type": "code",
        "outputId": "a90ead50-6658-4fb6-faae-8bff297e85b7",
        "colab": {
          "base_uri": "https://localhost:8080/",
          "height": 102
        }
      },
      "source": [
        "maxWords = 50000\n",
        "maxLength = 250\n",
        "embedDimension = 100\n",
        "\n",
        "tokenizer = Tokenizer(num_words=maxWords, filters='!\"#$%&()*+,-./:;<=>?@[\\]^_`{|}~', lower=True)\n",
        "tokenizer.fit_on_texts(olidData['text'])\n",
        "indexedWords = tokenizer.word_index\n",
        "print('Found %s unique tokens.' % len(indexedWords))\n",
        "\n",
        "#X = tokenizer.texts_to_sequences(olidData['text'].values)\n",
        "#X = pad_sequences(X, maxlen=maxLength)\n",
        "\n",
        "X_train = tokenizer.texts_to_sequences(olidData['text'].values)\n",
        "X_train = pad_sequences(X_train, maxlen=maxLength)\n",
        "print('Shape of data tensor:', X_train.shape)\n",
        "\n",
        "#Y = pd.get_dummies(olidData['mergedSubTasks'])\n",
        "Y_train = pd.get_dummies(olidData['actual_label'])\n",
        "print('Shape of label tensor:', Y_train.shape)\n",
        "\n",
        "#train_pct_index = int(0.8 * len(X))\n",
        "#X_train, X_test = X[:train_pct_index], X[train_pct_index:]\n",
        "#Y_train, Y_test = Y[:train_pct_index], Y[train_pct_index:]\n",
        "\n",
        "#X_train, X_test, Y_train, Y_test = train_test_split(X,Y, test_size = 0.10, random_state = 42)\n",
        "print(X_train.shape,Y_train.shape)\n",
        "#print(X_test.shape,Y_test.shape)"
      ],
      "execution_count": 0,
      "outputs": [
        {
          "output_type": "stream",
          "text": [
            "Found 20373 unique tokens.\n",
            "Shape of data tensor: (13240, 250)\n",
            "Shape of label tensor: (13240, 5)\n",
            "(10592, 250) (10592, 5)\n",
            "(2648, 250) (2648, 5)\n"
          ],
          "name": "stdout"
        }
      ]
    },
    {
      "cell_type": "markdown",
      "metadata": {
        "id": "zVULjmUH_rGT",
        "colab_type": "text"
      },
      "source": [
        "LSTM model\n"
      ]
    },
    {
      "cell_type": "code",
      "metadata": {
        "id": "BjtDYISAdiYx",
        "colab_type": "code",
        "outputId": "feac5991-93ab-4d8f-855b-32ebf9b8f9ac",
        "colab": {
          "base_uri": "https://localhost:8080/",
          "height": 513
        }
      },
      "source": [
        "lstmModel = Sequential()\n",
        "lstmModel.add(Embedding(maxWords, embedDimension, input_length=X.shape[1]))\n",
        "lstmModel.add(SpatialDropout1D(0.2))\n",
        "#biDirModel.add(Bidirectional(LSTM(100, dropout=0.2, recurrent_dropout=0.2)))\n",
        "lstmModel.add(LSTM(100, dropout=0.2, recurrent_dropout=0.2))\n",
        "lstmModel.add(Dense(5, activation='softmax'))\n",
        "lstmModel.compile(loss='categorical_crossentropy', optimizer='adam', metrics=['accuracy'])\n",
        "print(lstmModel.summary())\n",
        "\n",
        "# LSTM model training\n",
        "epochs = 10\n",
        "batch_size = 128\n",
        "\n",
        "history = lstmModel.fit(X_train, Y_train, epochs=epochs, batch_size=batch_size,validation_split=0.1,callbacks=[EarlyStopping(monitor='val_loss', patience=3, min_delta=0.0001)])"
      ],
      "execution_count": 0,
      "outputs": [
        {
          "output_type": "stream",
          "text": [
            "Model: \"sequential_3\"\n",
            "_________________________________________________________________\n",
            "Layer (type)                 Output Shape              Param #   \n",
            "=================================================================\n",
            "embedding_3 (Embedding)      (None, 250, 100)          5000000   \n",
            "_________________________________________________________________\n",
            "spatial_dropout1d_3 (Spatial (None, 250, 100)          0         \n",
            "_________________________________________________________________\n",
            "lstm_3 (LSTM)                (None, 100)               80400     \n",
            "_________________________________________________________________\n",
            "dense_3 (Dense)              (None, 5)                 505       \n",
            "=================================================================\n",
            "Total params: 5,080,905\n",
            "Trainable params: 5,080,905\n",
            "Non-trainable params: 0\n",
            "_________________________________________________________________\n",
            "None\n",
            "Train on 9532 samples, validate on 1060 samples\n",
            "Epoch 1/10\n",
            "9532/9532 [==============================] - 66s 7ms/step - loss: 1.0877 - acc: 0.6616 - val_loss: 1.0538 - val_acc: 0.6500\n",
            "Epoch 2/10\n",
            "9532/9532 [==============================] - 64s 7ms/step - loss: 0.9104 - acc: 0.6856 - val_loss: 0.9769 - val_acc: 0.6698\n",
            "Epoch 3/10\n",
            "9532/9532 [==============================] - 64s 7ms/step - loss: 0.6828 - acc: 0.7651 - val_loss: 1.0276 - val_acc: 0.6623\n",
            "Epoch 4/10\n",
            "9532/9532 [==============================] - 64s 7ms/step - loss: 0.5092 - acc: 0.8277 - val_loss: 1.1398 - val_acc: 0.6745\n",
            "Epoch 5/10\n",
            "9532/9532 [==============================] - 64s 7ms/step - loss: 0.3897 - acc: 0.8666 - val_loss: 1.1917 - val_acc: 0.6472\n"
          ],
          "name": "stdout"
        }
      ]
    },
    {
      "cell_type": "markdown",
      "metadata": {
        "id": "g3GFYgiSAZhx",
        "colab_type": "text"
      },
      "source": [
        "Testing of LSTM model"
      ]
    },
    {
      "cell_type": "code",
      "metadata": {
        "id": "CbOdYO2jdr-H",
        "colab_type": "code",
        "outputId": "a03bcd2e-0128-48d1-df83-41020c02aab2",
        "colab": {
          "base_uri": "https://localhost:8080/",
          "height": 85
        }
      },
      "source": [
        "accr = lstmModel.evaluate(X_test,Y_test)\n",
        "print('Test set\\n  Loss: {:0.3f}\\n  Accuracy: {:0.3f}'.format(accr[0],accr[1]))"
      ],
      "execution_count": 0,
      "outputs": [
        {
          "output_type": "stream",
          "text": [
            "2648/2648 [==============================] - 6s 2ms/step\n",
            "Test set\n",
            "  Loss: 1.102\n",
            "  Accuracy: 0.676\n"
          ],
          "name": "stdout"
        }
      ]
    },
    {
      "cell_type": "markdown",
      "metadata": {
        "id": "LVAk0WrfAkaU",
        "colab_type": "text"
      },
      "source": [
        "BiLSTM Model"
      ]
    },
    {
      "cell_type": "code",
      "metadata": {
        "id": "Y9Jx_uGahw_H",
        "colab_type": "code",
        "outputId": "77330f6c-d6d5-48a0-82bc-c96fc5566150",
        "colab": {
          "base_uri": "https://localhost:8080/",
          "height": 513
        }
      },
      "source": [
        "biDirModel = Sequential()\n",
        "biDirModel.add(Embedding(maxWords, embedDimension, input_length=X.shape[1]))\n",
        "biDirModel.add(SpatialDropout1D(0.2))\n",
        "biDirModel.add(Bidirectional(LSTM(100, dropout=0.2, recurrent_dropout=0.2)))\n",
        "#lstmModel.add(LSTM(100, dropout=0.2, recurrent_dropout=0.2))\n",
        "biDirModel.add(Dense(5, activation='softmax'))\n",
        "biDirModel.compile(loss='categorical_crossentropy', optimizer='adam', metrics=['accuracy'])\n",
        "print(biDirModel.summary())\n",
        "\n",
        "# BiLSTM model training\n",
        "epochs = 10\n",
        "batch_size = 128\n",
        "\n",
        "history = biDirModel.fit(X_train, Y_train, epochs=epochs, batch_size=batch_size,validation_split=0.1,callbacks=[EarlyStopping(monitor='val_loss', patience=3, min_delta=0.0001)])"
      ],
      "execution_count": 0,
      "outputs": [
        {
          "output_type": "stream",
          "text": [
            "Model: \"sequential_4\"\n",
            "_________________________________________________________________\n",
            "Layer (type)                 Output Shape              Param #   \n",
            "=================================================================\n",
            "embedding_4 (Embedding)      (None, 250, 100)          5000000   \n",
            "_________________________________________________________________\n",
            "spatial_dropout1d_4 (Spatial (None, 250, 100)          0         \n",
            "_________________________________________________________________\n",
            "bidirectional_1 (Bidirection (None, 200)               160800    \n",
            "_________________________________________________________________\n",
            "dense_4 (Dense)              (None, 5)                 1005      \n",
            "=================================================================\n",
            "Total params: 5,161,805\n",
            "Trainable params: 5,161,805\n",
            "Non-trainable params: 0\n",
            "_________________________________________________________________\n",
            "None\n",
            "Train on 9532 samples, validate on 1060 samples\n",
            "Epoch 1/10\n",
            "9532/9532 [==============================] - 123s 13ms/step - loss: 1.0726 - acc: 0.6591 - val_loss: 1.0415 - val_acc: 0.6500\n",
            "Epoch 2/10\n",
            "9532/9532 [==============================] - 120s 13ms/step - loss: 0.8904 - acc: 0.6889 - val_loss: 0.9714 - val_acc: 0.6613\n",
            "Epoch 3/10\n",
            "9532/9532 [==============================] - 119s 13ms/step - loss: 0.6704 - acc: 0.7718 - val_loss: 0.9937 - val_acc: 0.6575\n",
            "Epoch 4/10\n",
            "9532/9532 [==============================] - 120s 13ms/step - loss: 0.5066 - acc: 0.8317 - val_loss: 1.1052 - val_acc: 0.6538\n",
            "Epoch 5/10\n",
            "9532/9532 [==============================] - 120s 13ms/step - loss: 0.3944 - acc: 0.8669 - val_loss: 1.2132 - val_acc: 0.6481\n"
          ],
          "name": "stdout"
        }
      ]
    },
    {
      "cell_type": "markdown",
      "metadata": {
        "id": "xd6nUAQuA7md",
        "colab_type": "text"
      },
      "source": [
        "Testing BiLSTM model"
      ]
    },
    {
      "cell_type": "code",
      "metadata": {
        "id": "aPMes1pIh7X9",
        "colab_type": "code",
        "outputId": "80daded5-5925-48f2-e7ce-87739cfe14a2",
        "colab": {
          "base_uri": "https://localhost:8080/",
          "height": 85
        }
      },
      "source": [
        "accr = biDirModel.evaluate(X_test,Y_test)\n",
        "print('Test set\\n  Loss: {:0.3f}\\n  Accuracy: {:0.3f}'.format(accr[0],accr[1]))"
      ],
      "execution_count": 0,
      "outputs": [
        {
          "output_type": "stream",
          "text": [
            "2648/2648 [==============================] - 10s 4ms/step\n",
            "Test set\n",
            "  Loss: 1.123\n",
            "  Accuracy: 0.687\n"
          ],
          "name": "stdout"
        }
      ]
    },
    {
      "cell_type": "markdown",
      "metadata": {
        "id": "M4tIQdtFDUD3",
        "colab_type": "text"
      },
      "source": [
        "Nueral network without any lstm or bilstm layer"
      ]
    },
    {
      "cell_type": "code",
      "metadata": {
        "id": "kIXdsPktiBYb",
        "colab_type": "code",
        "outputId": "d2df72dc-1a22-45fd-ed25-7c4661aa76dc",
        "colab": {
          "base_uri": "https://localhost:8080/",
          "height": 578
        }
      },
      "source": [
        "neuralNetworkModel = Sequential()\n",
        "neuralNetworkModel.add(Dense(500, activation='relu', input_dim=250))\n",
        "# model.add(Dense(100, activation='relu'))\n",
        "# model.add(Dense(50, activation='relu'))\n",
        "neuralNetworkModel.add(Dense(5, activation='softmax'))\n",
        "\n",
        "# Compile the model\n",
        "neuralNetworkModel.compile(optimizer='adam',loss='categorical_crossentropy',metrics=['accuracy'])\n",
        "print(neuralNetworkModel.summary())\n",
        "history=neuralNetworkModel.fit(X_train, Y_train, epochs=epochs)"
      ],
      "execution_count": 0,
      "outputs": [
        {
          "output_type": "stream",
          "text": [
            "Model: \"sequential_6\"\n",
            "_________________________________________________________________\n",
            "Layer (type)                 Output Shape              Param #   \n",
            "=================================================================\n",
            "dense_6 (Dense)              (None, 500)               125500    \n",
            "_________________________________________________________________\n",
            "dense_7 (Dense)              (None, 5)                 2505      \n",
            "=================================================================\n",
            "Total params: 128,005\n",
            "Trainable params: 128,005\n",
            "Non-trainable params: 0\n",
            "_________________________________________________________________\n",
            "None\n",
            "Epoch 1/10\n",
            "10592/10592 [==============================] - 3s 240us/step - loss: 5.5140 - acc: 0.6567\n",
            "Epoch 2/10\n",
            "10592/10592 [==============================] - 1s 135us/step - loss: 5.3573 - acc: 0.6668\n",
            "Epoch 3/10\n",
            "10592/10592 [==============================] - 1s 129us/step - loss: 5.3516 - acc: 0.6671\n",
            "Epoch 4/10\n",
            "10592/10592 [==============================] - 1s 130us/step - loss: 5.3530 - acc: 0.6672\n",
            "Epoch 5/10\n",
            "10592/10592 [==============================] - 1s 132us/step - loss: 5.3780 - acc: 0.6653\n",
            "Epoch 6/10\n",
            "10592/10592 [==============================] - 1s 136us/step - loss: 5.3917 - acc: 0.6644\n",
            "Epoch 7/10\n",
            "10592/10592 [==============================] - 1s 129us/step - loss: 5.3658 - acc: 0.6660\n",
            "Epoch 8/10\n",
            "10592/10592 [==============================] - 1s 126us/step - loss: 5.3549 - acc: 0.6666\n",
            "Epoch 9/10\n",
            "10592/10592 [==============================] - 1s 123us/step - loss: 5.3606 - acc: 0.6667\n",
            "Epoch 10/10\n",
            "10592/10592 [==============================] - 1s 127us/step - loss: 5.3522 - acc: 0.6674\n"
          ],
          "name": "stdout"
        }
      ]
    },
    {
      "cell_type": "markdown",
      "metadata": {
        "id": "2w17fTZDDnqY",
        "colab_type": "text"
      },
      "source": [
        "Testing neural network"
      ]
    },
    {
      "cell_type": "code",
      "metadata": {
        "id": "YXNEUGAgiImx",
        "colab_type": "code",
        "outputId": "b7c6ee69-aee1-47d8-d21b-115745c3f1d7",
        "colab": {
          "base_uri": "https://localhost:8080/",
          "height": 85
        }
      },
      "source": [
        "accr = neuralNetworkModel.evaluate(X_test,Y_test)\n",
        "print('Test set\\n  Loss: {:0.3f}\\n  Accuracy: {:0.3f}'.format(accr[0],accr[1]))"
      ],
      "execution_count": 0,
      "outputs": [
        {
          "output_type": "stream",
          "text": [
            "2648/2648 [==============================] - 1s 198us/step\n",
            "Test set\n",
            "  Loss: 5.327\n",
            "  Accuracy: 0.669\n"
          ],
          "name": "stdout"
        }
      ]
    },
    {
      "cell_type": "markdown",
      "metadata": {
        "id": "5cx6M6BNER_5",
        "colab_type": "text"
      },
      "source": [
        "Create dataframe using InsertPredictions function with the test data and predict."
      ]
    },
    {
      "cell_type": "code",
      "metadata": {
        "id": "b84rSDoduIgd",
        "colab_type": "code",
        "outputId": "435e3f02-6abb-4c43-edc3-6d1cca0481ff",
        "colab": {
          "base_uri": "https://localhost:8080/",
          "height": 606
        }
      },
      "source": [
        "import numpy as np\n",
        "\n",
        "def InsertPredictions(test_data,model):\n",
        "    lstNot=[]\n",
        "    lstOffGrp=[]\n",
        "    lstOffInd=[]\n",
        "    lstOffOth=[]\n",
        "    lstOffUnt=[]\n",
        "    lst=[\"NOT\",\"OFF, TIN, GRP\",\"OFF, TIN, IND\",\"OFF, TIN, OTH\",\"OFF, UNT\"]\n",
        "    dd=olidData[train_pct_index:]\n",
        "    lst_text = dd['tweet'].tolist()\n",
        "    y_prob = model.predict(test_data)\n",
        "    for prob in y_prob:\n",
        "      lstNot.append(prob[0])\n",
        "      lstOffGrp.append(prob[1])\n",
        "      lstOffInd.append(prob[2])\n",
        "      lstOffOth.append(prob[3])\n",
        "      lstOffUnt.append(prob[4])\n",
        "    y_classes = y_prob.argmax(axis=-1)\n",
        "    lst_classes=y_classes.tolist()\n",
        "    lst_predictions = [lst[i] for i in lst_classes]\n",
        "    lst_original=dd['mergedSubTasks'].tolist()\n",
        "    lst_prob=y_prob.tolist()\n",
        "    df = pd.DataFrame(lst_text,columns =['tweet'])\n",
        "    df['Original']=lst_original\n",
        "    df['Predictions']=lst_predictions\n",
        "    df['Not Off.']=lstNot\n",
        "    df['Off. Group']=lstOffGrp\n",
        "    df['Off. Ind.']=lstOffInd\n",
        "    df['Off. Others']=lstOffOth\n",
        "    df['Off. Untargeted']=lstOffUnt\n",
        "    lstSummary=[]\n",
        "    for index, row in df.iterrows():\n",
        "      if row['Original']==row['Predictions']:\n",
        "        lstSummary.append(1)\n",
        "      else:\n",
        "        lstSummary.append(0)\n",
        "    df['IsCorrect']=lstSummary\n",
        "    return df\n",
        "\n",
        "predicted=InsertPredictions(X_test,biDirModel)\n",
        "predicted\n",
        "\n",
        "#y_classes = keras.np_utils.probas_to_classes(y_proba)\n",
        "#y_classes[0][0]"
      ],
      "execution_count": 0,
      "outputs": [
        {
          "output_type": "execute_result",
          "data": {
            "text/html": [
              "<div>\n",
              "<style scoped>\n",
              "    .dataframe tbody tr th:only-of-type {\n",
              "        vertical-align: middle;\n",
              "    }\n",
              "\n",
              "    .dataframe tbody tr th {\n",
              "        vertical-align: top;\n",
              "    }\n",
              "\n",
              "    .dataframe thead th {\n",
              "        text-align: right;\n",
              "    }\n",
              "</style>\n",
              "<table border=\"1\" class=\"dataframe\">\n",
              "  <thead>\n",
              "    <tr style=\"text-align: right;\">\n",
              "      <th></th>\n",
              "      <th>tweet</th>\n",
              "      <th>Original</th>\n",
              "      <th>Predictions</th>\n",
              "      <th>Not Off.</th>\n",
              "      <th>Off. Group</th>\n",
              "      <th>Off. Ind.</th>\n",
              "      <th>Off. Others</th>\n",
              "      <th>Off. Untargeted</th>\n",
              "      <th>IsCorrect</th>\n",
              "    </tr>\n",
              "  </thead>\n",
              "  <tbody>\n",
              "    <tr>\n",
              "      <th>0</th>\n",
              "      <td>person nancy lee grahn awesome fan since santa...</td>\n",
              "      <td>NOT</td>\n",
              "      <td>NOT</td>\n",
              "      <td>0.998486</td>\n",
              "      <td>0.000328</td>\n",
              "      <td>0.000828</td>\n",
              "      <td>0.000194</td>\n",
              "      <td>0.000164</td>\n",
              "      <td>1</td>\n",
              "    </tr>\n",
              "    <tr>\n",
              "      <th>1</th>\n",
              "      <td>person skrull enemy kree kree gave carol power...</td>\n",
              "      <td>NOT</td>\n",
              "      <td>OFF, TIN, IND</td>\n",
              "      <td>0.303999</td>\n",
              "      <td>0.183110</td>\n",
              "      <td>0.373911</td>\n",
              "      <td>0.071589</td>\n",
              "      <td>0.067391</td>\n",
              "      <td>0</td>\n",
              "    </tr>\n",
              "    <tr>\n",
              "      <th>2</th>\n",
              "      <td>person person person person person person pers...</td>\n",
              "      <td>NOT</td>\n",
              "      <td>NOT</td>\n",
              "      <td>0.976066</td>\n",
              "      <td>0.006468</td>\n",
              "      <td>0.005784</td>\n",
              "      <td>0.008271</td>\n",
              "      <td>0.003411</td>\n",
              "      <td>1</td>\n",
              "    </tr>\n",
              "    <tr>\n",
              "      <th>3</th>\n",
              "      <td>person person person beautiful</td>\n",
              "      <td>NOT</td>\n",
              "      <td>NOT</td>\n",
              "      <td>0.996849</td>\n",
              "      <td>0.000804</td>\n",
              "      <td>0.001168</td>\n",
              "      <td>0.000665</td>\n",
              "      <td>0.000515</td>\n",
              "      <td>1</td>\n",
              "    </tr>\n",
              "    <tr>\n",
              "      <th>4</th>\n",
              "      <td>person happens liberals get control</td>\n",
              "      <td>NOT</td>\n",
              "      <td>NOT</td>\n",
              "      <td>0.902620</td>\n",
              "      <td>0.061402</td>\n",
              "      <td>0.007425</td>\n",
              "      <td>0.022665</td>\n",
              "      <td>0.005889</td>\n",
              "      <td>1</td>\n",
              "    </tr>\n",
              "    <tr>\n",
              "      <th>...</th>\n",
              "      <td>...</td>\n",
              "      <td>...</td>\n",
              "      <td>...</td>\n",
              "      <td>...</td>\n",
              "      <td>...</td>\n",
              "      <td>...</td>\n",
              "      <td>...</td>\n",
              "      <td>...</td>\n",
              "      <td>...</td>\n",
              "    </tr>\n",
              "    <tr>\n",
              "      <th>2643</th>\n",
              "      <td>person sometimes get strong vibes people mans ...</td>\n",
              "      <td>OFF, TIN, IND</td>\n",
              "      <td>OFF, TIN, IND</td>\n",
              "      <td>0.263370</td>\n",
              "      <td>0.037808</td>\n",
              "      <td>0.631851</td>\n",
              "      <td>0.017672</td>\n",
              "      <td>0.049299</td>\n",
              "      <td>1</td>\n",
              "    </tr>\n",
              "    <tr>\n",
              "      <th>2644</th>\n",
              "      <td>benidorm creamfields maga shabby summer</td>\n",
              "      <td>NOT</td>\n",
              "      <td>NOT</td>\n",
              "      <td>0.906203</td>\n",
              "      <td>0.018896</td>\n",
              "      <td>0.052652</td>\n",
              "      <td>0.010887</td>\n",
              "      <td>0.011362</td>\n",
              "      <td>1</td>\n",
              "    </tr>\n",
              "    <tr>\n",
              "      <th>2645</th>\n",
              "      <td>person report garbage dont give crap</td>\n",
              "      <td>OFF, TIN, OTH</td>\n",
              "      <td>OFF, TIN, IND</td>\n",
              "      <td>0.017757</td>\n",
              "      <td>0.143345</td>\n",
              "      <td>0.535171</td>\n",
              "      <td>0.109402</td>\n",
              "      <td>0.194324</td>\n",
              "      <td>0</td>\n",
              "    </tr>\n",
              "    <tr>\n",
              "      <th>2646</th>\n",
              "      <td>person pussy</td>\n",
              "      <td>OFF, UNT</td>\n",
              "      <td>OFF, TIN, IND</td>\n",
              "      <td>0.103478</td>\n",
              "      <td>0.060730</td>\n",
              "      <td>0.612048</td>\n",
              "      <td>0.063026</td>\n",
              "      <td>0.160719</td>\n",
              "      <td>0</td>\n",
              "    </tr>\n",
              "    <tr>\n",
              "      <th>2647</th>\n",
              "      <td>#spanishrevenge vs #justice #humanrights #free...</td>\n",
              "      <td>NOT</td>\n",
              "      <td>NOT</td>\n",
              "      <td>0.991496</td>\n",
              "      <td>0.002068</td>\n",
              "      <td>0.003101</td>\n",
              "      <td>0.002145</td>\n",
              "      <td>0.001189</td>\n",
              "      <td>1</td>\n",
              "    </tr>\n",
              "  </tbody>\n",
              "</table>\n",
              "<p>2648 rows × 9 columns</p>\n",
              "</div>"
            ],
            "text/plain": [
              "                                                  tweet  ... IsCorrect\n",
              "0     person nancy lee grahn awesome fan since santa...  ...         1\n",
              "1     person skrull enemy kree kree gave carol power...  ...         0\n",
              "2     person person person person person person pers...  ...         1\n",
              "3                        person person person beautiful  ...         1\n",
              "4                   person happens liberals get control  ...         1\n",
              "...                                                 ...  ...       ...\n",
              "2643  person sometimes get strong vibes people mans ...  ...         1\n",
              "2644            benidorm creamfields maga shabby summer  ...         1\n",
              "2645               person report garbage dont give crap  ...         0\n",
              "2646                                       person pussy  ...         0\n",
              "2647  #spanishrevenge vs #justice #humanrights #free...  ...         1\n",
              "\n",
              "[2648 rows x 9 columns]"
            ]
          },
          "metadata": {
            "tags": []
          },
          "execution_count": 15
        }
      ]
    },
    {
      "cell_type": "code",
      "metadata": {
        "id": "vpEN0xdbkcFp",
        "colab_type": "code",
        "outputId": "5574be74-7d21-46b8-b1df-3f795de58ea6",
        "colab": {
          "base_uri": "https://localhost:8080/",
          "height": 469
        }
      },
      "source": [
        "def calScores(frame):\n",
        "  lst=['NOT','OFF, TIN, GRP','OFF, TIN, IND','OFF, TIN, OTH','OFF, UNT']\n",
        "  lstFscore=[]\n",
        "  for item in lst:\n",
        "    tp=len(frame[(frame['IsCorrect']==1) & (frame['Predictions']==item)])\n",
        "    fp=len(frame[(frame['IsCorrect']==0) & (frame['Predictions']==item)])\n",
        "    #precision=tp/tp+fp\n",
        "    precision=tp/(tp+fp)\n",
        "    print(\"Precision for \"+item+\" : \"+str(precision))\n",
        "    fn=len(frame[(frame['Original']==item) & (frame['Predictions']!=item)])\n",
        "    recall=tp/(tp+fn)\n",
        "    print(\"Recall for \"+item+\" : \"+str(recall))\n",
        "    fScore=(2*precision*recall)/(precision+recall)\n",
        "    lstFscore.append(fScore)\n",
        "  return lstFscore\n",
        "\n",
        "tp=len(predicted[(predicted['IsCorrect']==1) & (predicted['Predictions']=='OFF, UNT')])\n",
        "fp=len(predicted[(predicted['IsCorrect']==0) & (predicted['Predictions']=='OFF, UNT')])\n",
        "print(tp,fp)\n",
        "calScores(predicted)"
      ],
      "execution_count": 0,
      "outputs": [
        {
          "output_type": "stream",
          "text": [
            "0 5\n",
            "Precision for NOT : 0.7792860734037205\n",
            "Recall for NOT : 0.8752117447769622\n",
            "Precision for OFF, TIN, GRP : 0.3419354838709677\n",
            "Recall for OFF, TIN, GRP : 0.2409090909090909\n",
            "Precision for OFF, TIN, IND : 0.4585858585858586\n",
            "Recall for OFF, TIN, IND : 0.47489539748953974\n",
            "Precision for OFF, TIN, OTH : 0.0\n",
            "Recall for OFF, TIN, OTH : 0.0\n"
          ],
          "name": "stdout"
        },
        {
          "output_type": "error",
          "ename": "ZeroDivisionError",
          "evalue": "ignored",
          "traceback": [
            "\u001b[0;31m---------------------------------------------------------------------------\u001b[0m",
            "\u001b[0;31mZeroDivisionError\u001b[0m                         Traceback (most recent call last)",
            "\u001b[0;32m<ipython-input-16-a1ffff2f3965>\u001b[0m in \u001b[0;36m<module>\u001b[0;34m()\u001b[0m\n\u001b[1;32m     18\u001b[0m \u001b[0mfp\u001b[0m\u001b[0;34m=\u001b[0m\u001b[0mlen\u001b[0m\u001b[0;34m(\u001b[0m\u001b[0mpredicted\u001b[0m\u001b[0;34m[\u001b[0m\u001b[0;34m(\u001b[0m\u001b[0mpredicted\u001b[0m\u001b[0;34m[\u001b[0m\u001b[0;34m'IsCorrect'\u001b[0m\u001b[0;34m]\u001b[0m\u001b[0;34m==\u001b[0m\u001b[0;36m0\u001b[0m\u001b[0;34m)\u001b[0m \u001b[0;34m&\u001b[0m \u001b[0;34m(\u001b[0m\u001b[0mpredicted\u001b[0m\u001b[0;34m[\u001b[0m\u001b[0;34m'Predictions'\u001b[0m\u001b[0;34m]\u001b[0m\u001b[0;34m==\u001b[0m\u001b[0;34m'OFF, UNT'\u001b[0m\u001b[0;34m)\u001b[0m\u001b[0;34m]\u001b[0m\u001b[0;34m)\u001b[0m\u001b[0;34m\u001b[0m\u001b[0;34m\u001b[0m\u001b[0m\n\u001b[1;32m     19\u001b[0m \u001b[0mprint\u001b[0m\u001b[0;34m(\u001b[0m\u001b[0mtp\u001b[0m\u001b[0;34m,\u001b[0m\u001b[0mfp\u001b[0m\u001b[0;34m)\u001b[0m\u001b[0;34m\u001b[0m\u001b[0;34m\u001b[0m\u001b[0m\n\u001b[0;32m---> 20\u001b[0;31m \u001b[0mcalScores\u001b[0m\u001b[0;34m(\u001b[0m\u001b[0mpredicted\u001b[0m\u001b[0;34m)\u001b[0m\u001b[0;34m\u001b[0m\u001b[0;34m\u001b[0m\u001b[0m\n\u001b[0m",
            "\u001b[0;32m<ipython-input-16-a1ffff2f3965>\u001b[0m in \u001b[0;36mcalScores\u001b[0;34m(frame)\u001b[0m\n\u001b[1;32m     11\u001b[0m     \u001b[0mrecall\u001b[0m\u001b[0;34m=\u001b[0m\u001b[0mtp\u001b[0m\u001b[0;34m/\u001b[0m\u001b[0;34m(\u001b[0m\u001b[0mtp\u001b[0m\u001b[0;34m+\u001b[0m\u001b[0mfn\u001b[0m\u001b[0;34m)\u001b[0m\u001b[0;34m\u001b[0m\u001b[0;34m\u001b[0m\u001b[0m\n\u001b[1;32m     12\u001b[0m     \u001b[0mprint\u001b[0m\u001b[0;34m(\u001b[0m\u001b[0;34m\"Recall for \"\u001b[0m\u001b[0;34m+\u001b[0m\u001b[0mitem\u001b[0m\u001b[0;34m+\u001b[0m\u001b[0;34m\" : \"\u001b[0m\u001b[0;34m+\u001b[0m\u001b[0mstr\u001b[0m\u001b[0;34m(\u001b[0m\u001b[0mrecall\u001b[0m\u001b[0;34m)\u001b[0m\u001b[0;34m)\u001b[0m\u001b[0;34m\u001b[0m\u001b[0;34m\u001b[0m\u001b[0m\n\u001b[0;32m---> 13\u001b[0;31m     \u001b[0mfScore\u001b[0m\u001b[0;34m=\u001b[0m\u001b[0;34m(\u001b[0m\u001b[0;36m2\u001b[0m\u001b[0;34m*\u001b[0m\u001b[0mprecision\u001b[0m\u001b[0;34m*\u001b[0m\u001b[0mrecall\u001b[0m\u001b[0;34m)\u001b[0m\u001b[0;34m/\u001b[0m\u001b[0;34m(\u001b[0m\u001b[0mprecision\u001b[0m\u001b[0;34m+\u001b[0m\u001b[0mrecall\u001b[0m\u001b[0;34m)\u001b[0m\u001b[0;34m\u001b[0m\u001b[0;34m\u001b[0m\u001b[0m\n\u001b[0m\u001b[1;32m     14\u001b[0m     \u001b[0mlstFscore\u001b[0m\u001b[0;34m.\u001b[0m\u001b[0mappend\u001b[0m\u001b[0;34m(\u001b[0m\u001b[0mfScore\u001b[0m\u001b[0;34m)\u001b[0m\u001b[0;34m\u001b[0m\u001b[0;34m\u001b[0m\u001b[0m\n\u001b[1;32m     15\u001b[0m   \u001b[0;32mreturn\u001b[0m \u001b[0mlstFscore\u001b[0m\u001b[0;34m\u001b[0m\u001b[0;34m\u001b[0m\u001b[0m\n",
            "\u001b[0;31mZeroDivisionError\u001b[0m: float division by zero"
          ]
        }
      ]
    },
    {
      "cell_type": "code",
      "metadata": {
        "id": "MSZex6gDksNL",
        "colab_type": "code",
        "colab": {}
      },
      "source": [
        ""
      ],
      "execution_count": 0,
      "outputs": []
    },
    {
      "cell_type": "code",
      "metadata": {
        "id": "PKkps9kzst_p",
        "colab_type": "code",
        "colab": {}
      },
      "source": [
        ""
      ],
      "execution_count": 0,
      "outputs": []
    },
    {
      "cell_type": "code",
      "metadata": {
        "id": "ZO-6NhZPt1yy",
        "colab_type": "code",
        "colab": {}
      },
      "source": [
        ""
      ],
      "execution_count": 0,
      "outputs": []
    },
    {
      "cell_type": "code",
      "metadata": {
        "id": "OGjGVmCqukTP",
        "colab_type": "code",
        "colab": {}
      },
      "source": [
        ""
      ],
      "execution_count": 0,
      "outputs": []
    },
    {
      "cell_type": "code",
      "metadata": {
        "id": "W-HMOWn-yxiD",
        "colab_type": "code",
        "colab": {}
      },
      "source": [
        ""
      ],
      "execution_count": 0,
      "outputs": []
    },
    {
      "cell_type": "code",
      "metadata": {
        "id": "ID0NKnbBzVdI",
        "colab_type": "code",
        "outputId": "00226e5c-195a-41d2-e7dd-49576dd164dc",
        "colab": {
          "base_uri": "https://localhost:8080/",
          "height": 281
        }
      },
      "source": [
        "\n",
        "plt.title('Loss')\n",
        "plt.plot(history.history['loss'], label='train')\n",
        "plt.plot(history.history['val_loss'], label='test')\n",
        "plt.legend()\n",
        "plt.show();"
      ],
      "execution_count": 0,
      "outputs": [
        {
          "output_type": "display_data",
          "data": {
            "image/png": "[encoded data removed]",
            "text/plain": [
              "<Figure size 432x288 with 1 Axes>"
            ]
          },
          "metadata": {
            "tags": []
          }
        }
      ]
    },
    {
      "cell_type": "code",
      "metadata": {
        "id": "sWUFFDlw1ETG",
        "colab_type": "code",
        "outputId": "922dee7f-ed0a-449e-dc3d-89bfee9cd26a",
        "colab": {
          "base_uri": "https://localhost:8080/",
          "height": 281
        }
      },
      "source": [
        "plt.title('Accuracy')\n",
        "plt.plot(history.history['acc'], label='train')\n",
        "plt.plot(history.history['val_acc'], label='test')\n",
        "plt.legend()\n",
        "plt.show();"
      ],
      "execution_count": 0,
      "outputs": [
        {
          "output_type": "display_data",
          "data": {
            "image/png": "[encoded data removed]",
            "text/plain": [
              "<Figure size 432x288 with 1 Axes>"
            ]
          },
          "metadata": {
            "tags": []
          }
        }
      ]
    },
    {
      "cell_type": "code",
      "metadata": {
        "id": "E-X0U3-B1Rdj",
        "colab_type": "code",
        "outputId": "650e4159-91e4-42a2-8cd4-5b078950f746",
        "colab": {
          "base_uri": "https://localhost:8080/",
          "height": 204
        }
      },
      "source": [
        "olidData.info()"
      ],
      "execution_count": 0,
      "outputs": [
        {
          "output_type": "stream",
          "text": [
            "<class 'pandas.core.frame.DataFrame'>\n",
            "RangeIndex: 13240 entries, 0 to 13239\n",
            "Data columns (total 6 columns):\n",
            "id                13240 non-null int64\n",
            "tweet             13240 non-null object\n",
            "subtask_a         13240 non-null object\n",
            "subtask_b         4400 non-null object\n",
            "subtask_c         3876 non-null object\n",
            "mergedSubTasks    13240 non-null object\n",
            "dtypes: int64(1), object(5)\n",
            "memory usage: 620.8+ KB\n"
          ],
          "name": "stdout"
        }
      ]
    },
    {
      "cell_type": "code",
      "metadata": {
        "id": "BdrqvKok1nWn",
        "colab_type": "code",
        "outputId": "9d704468-685f-44d5-902b-1ba694e5d0cf",
        "colab": {
          "base_uri": "https://localhost:8080/",
          "height": 881
        }
      },
      "source": [
        "apiData=pd.read_csv('apiData.csv', sep='\\t')\n",
        "apiData"
      ],
      "execution_count": 0,
      "outputs": [
        {
          "output_type": "execute_result",
          "data": {
            "text/html": [
              "<div>\n",
              "<style scoped>\n",
              "    .dataframe tbody tr th:only-of-type {\n",
              "        vertical-align: middle;\n",
              "    }\n",
              "\n",
              "    .dataframe tbody tr th {\n",
              "        vertical-align: top;\n",
              "    }\n",
              "\n",
              "    .dataframe thead th {\n",
              "        text-align: right;\n",
              "    }\n",
              "</style>\n",
              "<table border=\"1\" class=\"dataframe\">\n",
              "  <thead>\n",
              "    <tr style=\"text-align: right;\">\n",
              "      <th></th>\n",
              "      <th>Unnamed: 0</th>\n",
              "      <th>id</th>\n",
              "      <th>id_str</th>\n",
              "      <th>text</th>\n",
              "      <th>user_id</th>\n",
              "      <th>user_screen_name</th>\n",
              "      <th>created_at</th>\n",
              "    </tr>\n",
              "  </thead>\n",
              "  <tbody>\n",
              "    <tr>\n",
              "      <th>0</th>\n",
              "      <td>0</td>\n",
              "      <td>1205982163549728769</td>\n",
              "      <td>1205982163549728769</td>\n",
              "      <td>RT @BruthaManTho: #ArmyNavyGame nothing like s...</td>\n",
              "      <td>772787304</td>\n",
              "      <td>ArriolaAnn</td>\n",
              "      <td>Sat Dec 14 22:45:28 +0000 2019</td>\n",
              "    </tr>\n",
              "    <tr>\n",
              "      <th>1</th>\n",
              "      <td>1</td>\n",
              "      <td>1205982164061446146</td>\n",
              "      <td>1205982164061446146</td>\n",
              "      <td>RT @bbcstrictly: The #Strictly class of 2019 a...</td>\n",
              "      <td>91434042</td>\n",
              "      <td>em_katexo</td>\n",
              "      <td>Sat Dec 14 22:45:28 +0000 2019</td>\n",
              "    </tr>\n",
              "    <tr>\n",
              "      <th>2</th>\n",
              "      <td>2</td>\n",
              "      <td>1205982164094988288</td>\n",
              "      <td>1205982164094988288</td>\n",
              "      <td>@MissFrance Miss Provence !</td>\n",
              "      <td>1088924476975263746</td>\n",
              "      <td>CharlotteTaquet</td>\n",
              "      <td>Sat Dec 14 22:45:28 +0000 2019</td>\n",
              "    </tr>\n",
              "    <tr>\n",
              "      <th>3</th>\n",
              "      <td>3</td>\n",
              "      <td>1205982164153782273</td>\n",
              "      <td>1205982164153782273</td>\n",
              "      <td>#StrictlyFinal I know the standard is good in ...</td>\n",
              "      <td>917385627649429504</td>\n",
              "      <td>Julie_Dawson12</td>\n",
              "      <td>Sat Dec 14 22:45:28 +0000 2019</td>\n",
              "    </tr>\n",
              "    <tr>\n",
              "      <th>4</th>\n",
              "      <td>4</td>\n",
              "      <td>1205982164988256256</td>\n",
              "      <td>1205982164988256256</td>\n",
              "      <td>RT @Michy043: ARMY please read this is really ...</td>\n",
              "      <td>1147779470285164545</td>\n",
              "      <td>lovinjintaekook</td>\n",
              "      <td>Sat Dec 14 22:45:28 +0000 2019</td>\n",
              "    </tr>\n",
              "    <tr>\n",
              "      <th>...</th>\n",
              "      <td>...</td>\n",
              "      <td>...</td>\n",
              "      <td>...</td>\n",
              "      <td>...</td>\n",
              "      <td>...</td>\n",
              "      <td>...</td>\n",
              "      <td>...</td>\n",
              "    </tr>\n",
              "    <tr>\n",
              "      <th>40496</th>\n",
              "      <td>40496</td>\n",
              "      <td>1206003770741710849</td>\n",
              "      <td>1206003770741710849</td>\n",
              "      <td>#BTSWin10s  @BTS_twt  &amp;amp; ARMY \\r\\nhttps://t...</td>\n",
              "      <td>469279642</td>\n",
              "      <td>L0vehaEhyuk</td>\n",
              "      <td>Sun Dec 15 00:11:20 +0000 2019</td>\n",
              "    </tr>\n",
              "    <tr>\n",
              "      <th>40497</th>\n",
              "      <td>40497</td>\n",
              "      <td>1206003771475668992</td>\n",
              "      <td>1206003771475668992</td>\n",
              "      <td>RT @avenaim: Trumps America #ArmyNavyGame a bu...</td>\n",
              "      <td>756510191332560896</td>\n",
              "      <td>Picklesnova</td>\n",
              "      <td>Sun Dec 15 00:11:20 +0000 2019</td>\n",
              "    </tr>\n",
              "    <tr>\n",
              "      <th>40498</th>\n",
              "      <td>40498</td>\n",
              "      <td>1206003771563761664</td>\n",
              "      <td>1206003771563761664</td>\n",
              "      <td>RT @escapedmatrix: After military officials pu...</td>\n",
              "      <td>899415992056631303</td>\n",
              "      <td>RobinPrice_ATL</td>\n",
              "      <td>Sun Dec 15 00:11:20 +0000 2019</td>\n",
              "    </tr>\n",
              "    <tr>\n",
              "      <th>40499</th>\n",
              "      <td>40499</td>\n",
              "      <td>1206003772012605471</td>\n",
              "      <td>1206003772012605471</td>\n",
              "      <td>RT @mmpadellan: As an American,\\r\\nAs a Navy D...</td>\n",
              "      <td>494042942</td>\n",
              "      <td>CathySturgis</td>\n",
              "      <td>Sun Dec 15 00:11:20 +0000 2019</td>\n",
              "    </tr>\n",
              "    <tr>\n",
              "      <th>40500</th>\n",
              "      <td>40500</td>\n",
              "      <td>1206003773606416389</td>\n",
              "      <td>1206003773606416389</td>\n",
              "      <td>RT @Scavino45: President @realDonaldTrump retu...</td>\n",
              "      <td>1170281340572446720</td>\n",
              "      <td>Ann_Gretarsson</td>\n",
              "      <td>Sun Dec 15 00:11:20 +0000 2019</td>\n",
              "    </tr>\n",
              "  </tbody>\n",
              "</table>\n",
              "<p>40501 rows × 7 columns</p>\n",
              "</div>"
            ],
            "text/plain": [
              "       Unnamed: 0  ...                      created_at\n",
              "0               0  ...  Sat Dec 14 22:45:28 +0000 2019\n",
              "1               1  ...  Sat Dec 14 22:45:28 +0000 2019\n",
              "2               2  ...  Sat Dec 14 22:45:28 +0000 2019\n",
              "3               3  ...  Sat Dec 14 22:45:28 +0000 2019\n",
              "4               4  ...  Sat Dec 14 22:45:28 +0000 2019\n",
              "...           ...  ...                             ...\n",
              "40496       40496  ...  Sun Dec 15 00:11:20 +0000 2019\n",
              "40497       40497  ...  Sun Dec 15 00:11:20 +0000 2019\n",
              "40498       40498  ...  Sun Dec 15 00:11:20 +0000 2019\n",
              "40499       40499  ...  Sun Dec 15 00:11:20 +0000 2019\n",
              "40500       40500  ...  Sun Dec 15 00:11:20 +0000 2019\n",
              "\n",
              "[40501 rows x 7 columns]"
            ]
          },
          "metadata": {
            "tags": []
          },
          "execution_count": 20
        }
      ]
    },
    {
      "cell_type": "code",
      "metadata": {
        "id": "Mrdl8juETLJb",
        "colab_type": "code",
        "colab": {}
      },
      "source": [
        "\n"
      ],
      "execution_count": 0,
      "outputs": []
    },
    {
      "cell_type": "code",
      "metadata": {
        "id": "dxEao0BMkKZl",
        "colab_type": "code",
        "outputId": "088df75f-c1d5-44fd-c8de-606d7840b43f",
        "colab": {
          "base_uri": "https://localhost:8080/",
          "height": 932
        }
      },
      "source": [
        "apiData['text'] = apiData['text'].apply(clean_text)\n",
        "apiData"
      ],
      "execution_count": 0,
      "outputs": [
        {
          "output_type": "execute_result",
          "data": {
            "text/html": [
              "<div>\n",
              "<style scoped>\n",
              "    .dataframe tbody tr th:only-of-type {\n",
              "        vertical-align: middle;\n",
              "    }\n",
              "\n",
              "    .dataframe tbody tr th {\n",
              "        vertical-align: top;\n",
              "    }\n",
              "\n",
              "    .dataframe thead th {\n",
              "        text-align: right;\n",
              "    }\n",
              "</style>\n",
              "<table border=\"1\" class=\"dataframe\">\n",
              "  <thead>\n",
              "    <tr style=\"text-align: right;\">\n",
              "      <th></th>\n",
              "      <th>Unnamed: 0</th>\n",
              "      <th>id</th>\n",
              "      <th>id_str</th>\n",
              "      <th>text</th>\n",
              "      <th>user_id</th>\n",
              "      <th>user_screen_name</th>\n",
              "      <th>created_at</th>\n",
              "    </tr>\n",
              "  </thead>\n",
              "  <tbody>\n",
              "    <tr>\n",
              "      <th>0</th>\n",
              "      <td>0</td>\n",
              "      <td>1205982163549728769</td>\n",
              "      <td>1205982163549728769</td>\n",
              "      <td>rt person #armynavygame nothing like seeing bu...</td>\n",
              "      <td>772787304</td>\n",
              "      <td>ArriolaAnn</td>\n",
              "      <td>Sat Dec 14 22:45:28 +0000 2019</td>\n",
              "    </tr>\n",
              "    <tr>\n",
              "      <th>1</th>\n",
              "      <td>1</td>\n",
              "      <td>1205982164061446146</td>\n",
              "      <td>1205982164061446146</td>\n",
              "      <td>rt person #strictly class 2019 back ballroom b...</td>\n",
              "      <td>91434042</td>\n",
              "      <td>em_katexo</td>\n",
              "      <td>Sat Dec 14 22:45:28 +0000 2019</td>\n",
              "    </tr>\n",
              "    <tr>\n",
              "      <th>2</th>\n",
              "      <td>2</td>\n",
              "      <td>1205982164094988288</td>\n",
              "      <td>1205982164094988288</td>\n",
              "      <td>person miss provence</td>\n",
              "      <td>1088924476975263746</td>\n",
              "      <td>CharlotteTaquet</td>\n",
              "      <td>Sat Dec 14 22:45:28 +0000 2019</td>\n",
              "    </tr>\n",
              "    <tr>\n",
              "      <th>3</th>\n",
              "      <td>3</td>\n",
              "      <td>1205982164153782273</td>\n",
              "      <td>1205982164153782273</td>\n",
              "      <td>#strictlyfinal know standard good final seems ...</td>\n",
              "      <td>917385627649429504</td>\n",
              "      <td>Julie_Dawson12</td>\n",
              "      <td>Sat Dec 14 22:45:28 +0000 2019</td>\n",
              "    </tr>\n",
              "    <tr>\n",
              "      <th>4</th>\n",
              "      <td>4</td>\n",
              "      <td>1205982164988256256</td>\n",
              "      <td>1205982164988256256</td>\n",
              "      <td>rt person army please read really important le...</td>\n",
              "      <td>1147779470285164545</td>\n",
              "      <td>lovinjintaekook</td>\n",
              "      <td>Sat Dec 14 22:45:28 +0000 2019</td>\n",
              "    </tr>\n",
              "    <tr>\n",
              "      <th>...</th>\n",
              "      <td>...</td>\n",
              "      <td>...</td>\n",
              "      <td>...</td>\n",
              "      <td>...</td>\n",
              "      <td>...</td>\n",
              "      <td>...</td>\n",
              "      <td>...</td>\n",
              "    </tr>\n",
              "    <tr>\n",
              "      <th>40496</th>\n",
              "      <td>40496</td>\n",
              "      <td>1206003770741710849</td>\n",
              "      <td>1206003770741710849</td>\n",
              "      <td>#btswin10s person amp army https tco kg0ccwu81o</td>\n",
              "      <td>469279642</td>\n",
              "      <td>L0vehaEhyuk</td>\n",
              "      <td>Sun Dec 15 00:11:20 +0000 2019</td>\n",
              "    </tr>\n",
              "    <tr>\n",
              "      <th>40497</th>\n",
              "      <td>40497</td>\n",
              "      <td>1206003771475668992</td>\n",
              "      <td>1206003771475668992</td>\n",
              "      <td>rt person trumps america #armynavygame bunch c...</td>\n",
              "      <td>756510191332560896</td>\n",
              "      <td>Picklesnova</td>\n",
              "      <td>Sun Dec 15 00:11:20 +0000 2019</td>\n",
              "    </tr>\n",
              "    <tr>\n",
              "      <th>40498</th>\n",
              "      <td>40498</td>\n",
              "      <td>1206003771563761664</td>\n",
              "      <td>1206003771563761664</td>\n",
              "      <td>rt person military officials publicly emphasiz...</td>\n",
              "      <td>899415992056631303</td>\n",
              "      <td>RobinPrice_ATL</td>\n",
              "      <td>Sun Dec 15 00:11:20 +0000 2019</td>\n",
              "    </tr>\n",
              "    <tr>\n",
              "      <th>40499</th>\n",
              "      <td>40499</td>\n",
              "      <td>1206003772012605471</td>\n",
              "      <td>1206003772012605471</td>\n",
              "      <td>rt person NORP navy dad decent human beingyou ...</td>\n",
              "      <td>494042942</td>\n",
              "      <td>CathySturgis</td>\n",
              "      <td>Sun Dec 15 00:11:20 +0000 2019</td>\n",
              "    </tr>\n",
              "    <tr>\n",
              "      <th>40500</th>\n",
              "      <td>40500</td>\n",
              "      <td>1206003773606416389</td>\n",
              "      <td>1206003773606416389</td>\n",
              "      <td>rt person president person returns person atte...</td>\n",
              "      <td>1170281340572446720</td>\n",
              "      <td>Ann_Gretarsson</td>\n",
              "      <td>Sun Dec 15 00:11:20 +0000 2019</td>\n",
              "    </tr>\n",
              "  </tbody>\n",
              "</table>\n",
              "<p>40501 rows × 7 columns</p>\n",
              "</div>"
            ],
            "text/plain": [
              "       Unnamed: 0  ...                      created_at\n",
              "0               0  ...  Sat Dec 14 22:45:28 +0000 2019\n",
              "1               1  ...  Sat Dec 14 22:45:28 +0000 2019\n",
              "2               2  ...  Sat Dec 14 22:45:28 +0000 2019\n",
              "3               3  ...  Sat Dec 14 22:45:28 +0000 2019\n",
              "4               4  ...  Sat Dec 14 22:45:28 +0000 2019\n",
              "...           ...  ...                             ...\n",
              "40496       40496  ...  Sun Dec 15 00:11:20 +0000 2019\n",
              "40497       40497  ...  Sun Dec 15 00:11:20 +0000 2019\n",
              "40498       40498  ...  Sun Dec 15 00:11:20 +0000 2019\n",
              "40499       40499  ...  Sun Dec 15 00:11:20 +0000 2019\n",
              "40500       40500  ...  Sun Dec 15 00:11:20 +0000 2019\n",
              "\n",
              "[40501 rows x 7 columns]"
            ]
          },
          "metadata": {
            "tags": []
          },
          "execution_count": 21
        }
      ]
    },
    {
      "cell_type": "code",
      "metadata": {
        "id": "d6Uvxyqlkesl",
        "colab_type": "code",
        "colab": {}
      },
      "source": [
        "import numpy as np\n",
        "\n",
        "lst=[\"NOT\",\"OFF, TIN, GRP\",\"OFF, TIN, IND\",\"OFF, TIN, OTH\",\"OFF, UNT\"]\n",
        "lstSubstask=[]\n",
        "for row_index,row in apiData.iterrows():\n",
        "    seq = tokenizer.texts_to_sequences([row[\"text\"]])\n",
        "    padded = pad_sequences(seq, maxlen=maxLength)\n",
        "    pred = biDirModel.predict(padded)\n",
        "    #print(pred)\n",
        "    #aa=np.amax(pred)\n",
        "    predIndex=np.argmax(pred)\n",
        "    #print(aa,predIndex)\n",
        "    lstSubstask.append(lst[predIndex])\n",
        "    \n",
        "apiData[\"mergedSubTasks\"]=lstSubstask\n"
      ],
      "execution_count": 0,
      "outputs": []
    },
    {
      "cell_type": "code",
      "metadata": {
        "id": "4f66sXVezBnE",
        "colab_type": "code",
        "outputId": "93273c5c-eabc-485b-e93f-e2ef6d07f569",
        "colab": {
          "base_uri": "https://localhost:8080/",
          "height": 51
        }
      },
      "source": [
        "print('preds.ravel')\n",
        "print(pred.ravel())"
      ],
      "execution_count": 0,
      "outputs": [
        {
          "output_type": "stream",
          "text": [
            "preds.ravel\n",
            "[0.98954856 0.00275802 0.00482857 0.00149128 0.00137354]\n"
          ],
          "name": "stdout"
        }
      ]
    }
  ]
}