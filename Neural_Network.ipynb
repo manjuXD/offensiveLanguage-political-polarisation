{
  "nbformat": 4,
  "nbformat_minor": 0,
  "metadata": {
    "colab": {
      "name": "Neural_Network.ipynb",
      "provenance": []
    },
    "kernelspec": {
      "name": "python3",
      "display_name": "Python 3"
    }
  },
  "cells": [
    {
      "cell_type": "markdown",
      "metadata": {
        "id": "5y60m8XAMEma",
        "colab_type": "text"
      },
      "source": [
        "Libraries Used"
      ]
    },
    {
      "cell_type": "code",
      "metadata": {
        "id": "0qyJPML7p6cU",
        "colab_type": "code",
        "outputId": "9434438a-f049-4acf-8885-9242a7bba7a3",
        "colab": {
          "base_uri": "https://localhost:8080/",
          "height": 131
        }
      },
      "source": [
        "import pandas as pd\n",
        "import re\n",
        "import nltk\n",
        "nltk.download('stopwords')\n",
        "from nltk.corpus import stopwords\n",
        "from sklearn.feature_extraction.text import CountVectorizer\n",
        "import spacy\n",
        "import matplotlib.pyplot as plt\n",
        "import seaborn as sns\n",
        "from keras.preprocessing.text import Tokenizer\n",
        "from keras.preprocessing.sequence import pad_sequences\n",
        "from keras.models import Sequential\n",
        "from keras.layers import Dense, Embedding, LSTM, SpatialDropout1D,Bidirectional\n",
        "from sklearn.model_selection import train_test_split\n",
        "from keras.utils.np_utils import to_categorical\n",
        "from keras.callbacks import EarlyStopping\n",
        "from keras.layers import Dropout\n",
        "import keras_metrics\n",
        "import re\n",
        "from nltk.corpus import stopwords\n",
        "from nltk import word_tokenize\n",
        "#STOPWORDS = set(stopwords.words('english'))\n",
        "from bs4 import BeautifulSoup\n",
        "import plotly.graph_objs as go\n",
        "import chart_studio.plotly as py\n",
        "import cufflinks\n",
        "from IPython.core.interactiveshell import InteractiveShell\n",
        "import plotly.figure_factory as ff\n",
        "InteractiveShell.ast_node_interactivity = 'all'\n",
        "from plotly.offline import iplot\n",
        "cufflinks.go_offline()\n",
        "cufflinks.set_config_file(world_readable=True, theme='pearl')"
      ],
      "execution_count": 2,
      "outputs": [
        {
          "output_type": "stream",
          "text": [
            "[nltk_data] Downloading package stopwords to /root/nltk_data...\n",
            "[nltk_data]   Unzipping corpora/stopwords.zip.\n"
          ],
          "name": "stdout"
        },
        {
          "output_type": "stream",
          "text": [
            "Using TensorFlow backend.\n"
          ],
          "name": "stderr"
        },
        {
          "output_type": "display_data",
          "data": {
            "text/html": [
              "<p style=\"color: red;\">\n",
              "The default version of TensorFlow in Colab will soon switch to TensorFlow 2.x.<br>\n",
              "We recommend you <a href=\"https://www.tensorflow.org/guide/migrate\" target=\"_blank\">upgrade</a> now \n",
              "or ensure your notebook will continue to use TensorFlow 1.x via the <code>%tensorflow_version 1.x</code> magic:\n",
              "<a href=\"https://colab.research.google.com/notebooks/tensorflow_version.ipynb\" target=\"_blank\">more info</a>.</p>\n"
            ],
            "text/plain": [
              "<IPython.core.display.HTML object>"
            ]
          },
          "metadata": {
            "tags": []
          }
        },
        {
          "output_type": "display_data",
          "data": {
            "text/html": [
              "        <script type=\"text/javascript\">\n",
              "        window.PlotlyConfig = {MathJaxConfig: 'local'};\n",
              "        if (window.MathJax) {MathJax.Hub.Config({SVG: {font: \"STIX-Web\"}});}\n",
              "        if (typeof require !== 'undefined') {\n",
              "        require.undef(\"plotly\");\n",
              "        requirejs.config({\n",
              "            paths: {\n",
              "                'plotly': ['https://cdn.plot.ly/plotly-latest.min']\n",
              "            }\n",
              "        });\n",
              "        require(['plotly'], function(Plotly) {\n",
              "            window._Plotly = Plotly;\n",
              "        });\n",
              "        }\n",
              "        </script>\n",
              "        "
            ]
          },
          "metadata": {
            "tags": []
          }
        }
      ]
    },
    {
      "cell_type": "code",
      "metadata": {
        "id": "VzXxt94Urtvi",
        "colab_type": "code",
        "outputId": "1aa1edfc-889f-44c7-f34e-6c8364353a80",
        "colab": {
          "base_uri": "https://localhost:8080/",
          "height": 241
        }
      },
      "source": [
        "!pip install keras_metrics"
      ],
      "execution_count": 1,
      "outputs": [
        {
          "output_type": "stream",
          "text": [
            "Collecting keras_metrics\n",
            "  Downloading https://files.pythonhosted.org/packages/32/c9/a87420da8e73de944e63a8e9cdcfb1f03ca31a7c4cdcdbd45d2cdf13275a/keras_metrics-1.1.0-py2.py3-none-any.whl\n",
            "Requirement already satisfied: Keras>=2.1.5 in /usr/local/lib/python3.6/dist-packages (from keras_metrics) (2.2.5)\n",
            "Requirement already satisfied: keras-preprocessing>=1.1.0 in /usr/local/lib/python3.6/dist-packages (from Keras>=2.1.5->keras_metrics) (1.1.0)\n",
            "Requirement already satisfied: pyyaml in /usr/local/lib/python3.6/dist-packages (from Keras>=2.1.5->keras_metrics) (3.13)\n",
            "Requirement already satisfied: numpy>=1.9.1 in /usr/local/lib/python3.6/dist-packages (from Keras>=2.1.5->keras_metrics) (1.17.5)\n",
            "Requirement already satisfied: keras-applications>=1.0.8 in /usr/local/lib/python3.6/dist-packages (from Keras>=2.1.5->keras_metrics) (1.0.8)\n",
            "Requirement already satisfied: six>=1.9.0 in /usr/local/lib/python3.6/dist-packages (from Keras>=2.1.5->keras_metrics) (1.12.0)\n",
            "Requirement already satisfied: scipy>=0.14 in /usr/local/lib/python3.6/dist-packages (from Keras>=2.1.5->keras_metrics) (1.4.1)\n",
            "Requirement already satisfied: h5py in /usr/local/lib/python3.6/dist-packages (from Keras>=2.1.5->keras_metrics) (2.8.0)\n",
            "Installing collected packages: keras-metrics\n",
            "Successfully installed keras-metrics-1.1.0\n"
          ],
          "name": "stdout"
        }
      ]
    },
    {
      "cell_type": "markdown",
      "metadata": {
        "id": "ZdtLbb70Jijc",
        "colab_type": "text"
      },
      "source": [
        "Training data which has been cleaned before"
      ]
    },
    {
      "cell_type": "markdown",
      "metadata": {
        "id": "yZ-kyqPfKG4P",
        "colab_type": "text"
      },
      "source": [
        ""
      ]
    },
    {
      "cell_type": "code",
      "metadata": {
        "id": "2gibjOddrurS",
        "colab_type": "code",
        "outputId": "d3e0d98e-bdb1-45d4-8634-7af14c97f07d",
        "colab": {
          "base_uri": "https://localhost:8080/",
          "height": 419
        }
      },
      "source": [
        "\n",
        "olidData=pd.read_csv('training_data.tsv', sep='\\t')\n",
        "\n",
        "olidData.text=olidData.text.astype(str)\n",
        "olidData"
      ],
      "execution_count": 3,
      "outputs": [
        {
          "output_type": "execute_result",
          "data": {
            "text/html": [
              "<div>\n",
              "<style scoped>\n",
              "    .dataframe tbody tr th:only-of-type {\n",
              "        vertical-align: middle;\n",
              "    }\n",
              "\n",
              "    .dataframe tbody tr th {\n",
              "        vertical-align: top;\n",
              "    }\n",
              "\n",
              "    .dataframe thead th {\n",
              "        text-align: right;\n",
              "    }\n",
              "</style>\n",
              "<table border=\"1\" class=\"dataframe\">\n",
              "  <thead>\n",
              "    <tr style=\"text-align: right;\">\n",
              "      <th></th>\n",
              "      <th>id</th>\n",
              "      <th>text</th>\n",
              "      <th>actual_label</th>\n",
              "    </tr>\n",
              "  </thead>\n",
              "  <tbody>\n",
              "    <tr>\n",
              "      <th>0</th>\n",
              "      <td>1157097496465825792</td>\n",
              "      <td>artists use clip studio paint please dm looks ...</td>\n",
              "      <td>NOT</td>\n",
              "    </tr>\n",
              "    <tr>\n",
              "      <th>1</th>\n",
              "      <td>1159951246964547584</td>\n",
              "      <td>personORGillORGworkORGORGmightORGneedORGpens</td>\n",
              "      <td>NOT</td>\n",
              "    </tr>\n",
              "    <tr>\n",
              "      <th>2</th>\n",
              "      <td>1161854610727997440</td>\n",
              "      <td>person 1 mycareer trailer huh</td>\n",
              "      <td>NOT</td>\n",
              "    </tr>\n",
              "    <tr>\n",
              "      <th>3</th>\n",
              "      <td>1187418039719026689</td>\n",
              "      <td>aint settling piece shit ass hoes</td>\n",
              "      <td>OFF, UNT</td>\n",
              "    </tr>\n",
              "    <tr>\n",
              "      <th>4</th>\n",
              "      <td>1157363369898328064</td>\n",
              "      <td>person person yea 100 part group</td>\n",
              "      <td>NOT</td>\n",
              "    </tr>\n",
              "    <tr>\n",
              "      <th>...</th>\n",
              "      <td>...</td>\n",
              "      <td>...</td>\n",
              "      <td>...</td>\n",
              "    </tr>\n",
              "    <tr>\n",
              "      <th>132246</th>\n",
              "      <td>1155703226819330048</td>\n",
              "      <td>person separated 3 books like 912 chapters fin...</td>\n",
              "      <td>NOT</td>\n",
              "    </tr>\n",
              "    <tr>\n",
              "      <th>132247</th>\n",
              "      <td>1161585527650492416</td>\n",
              "      <td>person im sure everyone shit story moz police</td>\n",
              "      <td>OFF, UNT</td>\n",
              "    </tr>\n",
              "    <tr>\n",
              "      <th>132248</th>\n",
              "      <td>1161209043970473984</td>\n",
              "      <td>person person give shit wield power use power ...</td>\n",
              "      <td>OFF, TIN, GRP</td>\n",
              "    </tr>\n",
              "    <tr>\n",
              "      <th>132249</th>\n",
              "      <td>1160153244087267328</td>\n",
              "      <td>person children love shit</td>\n",
              "      <td>OFF, UNT</td>\n",
              "    </tr>\n",
              "    <tr>\n",
              "      <th>132250</th>\n",
              "      <td>1157486992403419136</td>\n",
              "      <td>boy googling kin</td>\n",
              "      <td>NaN</td>\n",
              "    </tr>\n",
              "  </tbody>\n",
              "</table>\n",
              "<p>132251 rows × 3 columns</p>\n",
              "</div>"
            ],
            "text/plain": [
              "                         id  ...   actual_label\n",
              "0       1157097496465825792  ...            NOT\n",
              "1       1159951246964547584  ...            NOT\n",
              "2       1161854610727997440  ...            NOT\n",
              "3       1187418039719026689  ...       OFF, UNT\n",
              "4       1157363369898328064  ...            NOT\n",
              "...                     ...  ...            ...\n",
              "132246  1155703226819330048  ...            NOT\n",
              "132247  1161585527650492416  ...       OFF, UNT\n",
              "132248  1161209043970473984  ...  OFF, TIN, GRP\n",
              "132249  1160153244087267328  ...       OFF, UNT\n",
              "132250  1157486992403419136  ...            NaN\n",
              "\n",
              "[132251 rows x 3 columns]"
            ]
          },
          "metadata": {
            "tags": []
          },
          "execution_count": 3
        }
      ]
    },
    {
      "cell_type": "markdown",
      "metadata": {
        "id": "FpvM6avBJrN3",
        "colab_type": "text"
      },
      "source": [
        "Tokenizing and preparing for model"
      ]
    },
    {
      "cell_type": "code",
      "metadata": {
        "id": "vfDXdMY4s97V",
        "colab_type": "code",
        "outputId": "2fed6bc0-f49f-4be5-b0eb-08c323cf207d",
        "colab": {
          "base_uri": "https://localhost:8080/",
          "height": 85
        }
      },
      "source": [
        "maxWords = 50000\n",
        "maxLength = 250\n",
        "embedDimension = 100\n",
        "\n",
        "tokenizer = Tokenizer(num_words=maxWords, filters='!\"#$%&()*+,-./:;<=>?@[\\]^_`{|}~', lower=True)\n",
        "tokenizer.fit_on_texts(olidData['text'])\n",
        "indexedWords = tokenizer.word_index\n",
        "print('Found %s unique tokens.' % len(indexedWords))\n",
        "\n",
        "\n",
        "X_train = tokenizer.texts_to_sequences(olidData['text'].values)\n",
        "X_train = pad_sequences(X_train, maxlen=maxLength)\n",
        "print('Shape of data tensor:', X_train.shape)\n",
        "\n",
        "Y_train = pd.get_dummies(olidData['actual_label'])\n",
        "print('Shape of label tensor:', Y_train.shape)\n",
        "\n",
        "print(X_train.shape,Y_train.shape)"
      ],
      "execution_count": 4,
      "outputs": [
        {
          "output_type": "stream",
          "text": [
            "Found 76231 unique tokens.\n",
            "Shape of data tensor: (132251, 250)\n",
            "Shape of label tensor: (132251, 5)\n",
            "(132251, 250) (132251, 5)\n"
          ],
          "name": "stdout"
        }
      ]
    },
    {
      "cell_type": "markdown",
      "metadata": {
        "id": "tg4sAtgZJzbk",
        "colab_type": "text"
      },
      "source": [
        "Neural Network model"
      ]
    },
    {
      "cell_type": "code",
      "metadata": {
        "id": "ooEXGfydtF-H",
        "colab_type": "code",
        "outputId": "710654ef-65d1-4dde-d442-d0a32bfd4059",
        "colab": {
          "base_uri": "https://localhost:8080/",
          "height": 462
        }
      },
      "source": [
        "neuralNetworkModel = Sequential()\n",
        "neuralNetworkModel.add(Dense(500, activation='relu', input_dim=250))\n",
        "neuralNetworkModel.add(Dense(100, activation='relu'))\n",
        "neuralNetworkModel.add(Dense(5, activation='softmax'))\n",
        "\n",
        "# Compile the model\n",
        "neuralNetworkModel.compile(optimizer='adam',loss='categorical_crossentropy',metrics=['accuracy' ,keras_metrics.precision(),keras_metrics.recall(),keras_metrics.f1_score(),keras_metrics.false_positive(),keras_metrics.false_negative()])\n",
        "print(neuralNetworkModel.summary())\n",
        "history=neuralNetworkModel.fit(X_train, Y_train, epochs=5)"
      ],
      "execution_count": 22,
      "outputs": [
        {
          "output_type": "stream",
          "text": [
            "Model: \"sequential_6\"\n",
            "_________________________________________________________________\n",
            "Layer (type)                 Output Shape              Param #   \n",
            "=================================================================\n",
            "dense_12 (Dense)             (None, 500)               125500    \n",
            "_________________________________________________________________\n",
            "dense_13 (Dense)             (None, 100)               50100     \n",
            "_________________________________________________________________\n",
            "dense_14 (Dense)             (None, 5)                 505       \n",
            "=================================================================\n",
            "Total params: 176,105\n",
            "Trainable params: 176,105\n",
            "Non-trainable params: 0\n",
            "_________________________________________________________________\n",
            "None\n",
            "Epoch 1/5\n",
            "132251/132251 [==============================] - 19s 143us/step - loss: 7.2438 - acc: 0.5344 - precision: 0.5707 - recall: 0.8562 - f1_score: 0.6849 - false_positive: 48274.0000 - false_negative: 10776.0000\n",
            "Epoch 2/5\n",
            "132251/132251 [==============================] - 19s 144us/step - loss: 6.9841 - acc: 0.5526 - precision: 0.5731 - recall: 0.9131 - f1_score: 0.7042 - false_positive: 50986.0000 - false_negative: 6513.0000\n",
            "Epoch 3/5\n",
            "132251/132251 [==============================] - 19s 143us/step - loss: 10.8101 - acc: 0.3160 - precision: 0.6944 - recall: 0.0564 - f1_score: 0.1044 - false_positive: 1862.0000 - false_negative: 70731.0000\n",
            "Epoch 4/5\n",
            "132251/132251 [==============================] - 19s 143us/step - loss: 8.2956 - acc: 0.4705 - precision: 0.5834 - recall: 0.5989 - f1_score: 0.5911 - false_positive: 32059.0000 - false_negative: 30065.0000\n",
            "Epoch 5/5\n",
            "132251/132251 [==============================] - 19s 140us/step - loss: 6.6651 - acc: 0.5730 - precision: 0.5795 - recall: 0.9604 - f1_score: 0.7228 - false_positive: 52235.0000 - false_negative: 2971.0000\n"
          ],
          "name": "stdout"
        }
      ]
    },
    {
      "cell_type": "markdown",
      "metadata": {
        "id": "Zlh9dv7aJ9Q5",
        "colab_type": "text"
      },
      "source": [
        "Test Data being read"
      ]
    },
    {
      "cell_type": "code",
      "metadata": {
        "id": "zLJrRrFotgMw",
        "colab_type": "code",
        "colab": {
          "base_uri": "https://localhost:8080/",
          "height": 419
        },
        "outputId": "8251a1bf-30d9-42a7-da99-3a289379e917"
      },
      "source": [
        "testData=pd.read_csv('olid-training-v1.0.tsv', sep='\\t')\n",
        "#olidData=pd.read_csv('training_data.tsv', sep='\\t')\n",
        "testData['actual_label'] = testData[['subtask_a', 'subtask_b', 'subtask_c']].apply(lambda x: ', '.join(x[x.notnull()]), axis = 1)\n",
        "testData.tweet=testData.tweet.astype(str)\n",
        "testData"
      ],
      "execution_count": 7,
      "outputs": [
        {
          "output_type": "execute_result",
          "data": {
            "text/html": [
              "<div>\n",
              "<style scoped>\n",
              "    .dataframe tbody tr th:only-of-type {\n",
              "        vertical-align: middle;\n",
              "    }\n",
              "\n",
              "    .dataframe tbody tr th {\n",
              "        vertical-align: top;\n",
              "    }\n",
              "\n",
              "    .dataframe thead th {\n",
              "        text-align: right;\n",
              "    }\n",
              "</style>\n",
              "<table border=\"1\" class=\"dataframe\">\n",
              "  <thead>\n",
              "    <tr style=\"text-align: right;\">\n",
              "      <th></th>\n",
              "      <th>id</th>\n",
              "      <th>tweet</th>\n",
              "      <th>subtask_a</th>\n",
              "      <th>subtask_b</th>\n",
              "      <th>subtask_c</th>\n",
              "      <th>actual_label</th>\n",
              "    </tr>\n",
              "  </thead>\n",
              "  <tbody>\n",
              "    <tr>\n",
              "      <th>0</th>\n",
              "      <td>86426</td>\n",
              "      <td>@USER She should ask a few native Americans wh...</td>\n",
              "      <td>OFF</td>\n",
              "      <td>UNT</td>\n",
              "      <td>NaN</td>\n",
              "      <td>OFF, UNT</td>\n",
              "    </tr>\n",
              "    <tr>\n",
              "      <th>1</th>\n",
              "      <td>90194</td>\n",
              "      <td>@USER @USER Go home you’re drunk!!! @USER #MAG...</td>\n",
              "      <td>OFF</td>\n",
              "      <td>TIN</td>\n",
              "      <td>IND</td>\n",
              "      <td>OFF, TIN, IND</td>\n",
              "    </tr>\n",
              "    <tr>\n",
              "      <th>2</th>\n",
              "      <td>16820</td>\n",
              "      <td>Amazon is investigating Chinese employees who ...</td>\n",
              "      <td>NOT</td>\n",
              "      <td>NaN</td>\n",
              "      <td>NaN</td>\n",
              "      <td>NOT</td>\n",
              "    </tr>\n",
              "    <tr>\n",
              "      <th>3</th>\n",
              "      <td>62688</td>\n",
              "      <td>@USER Someone should'veTaken\" this piece of sh...</td>\n",
              "      <td>OFF</td>\n",
              "      <td>UNT</td>\n",
              "      <td>NaN</td>\n",
              "      <td>OFF, UNT</td>\n",
              "    </tr>\n",
              "    <tr>\n",
              "      <th>4</th>\n",
              "      <td>43605</td>\n",
              "      <td>@USER @USER Obama wanted liberals &amp;amp; illega...</td>\n",
              "      <td>NOT</td>\n",
              "      <td>NaN</td>\n",
              "      <td>NaN</td>\n",
              "      <td>NOT</td>\n",
              "    </tr>\n",
              "    <tr>\n",
              "      <th>...</th>\n",
              "      <td>...</td>\n",
              "      <td>...</td>\n",
              "      <td>...</td>\n",
              "      <td>...</td>\n",
              "      <td>...</td>\n",
              "      <td>...</td>\n",
              "    </tr>\n",
              "    <tr>\n",
              "      <th>13235</th>\n",
              "      <td>95338</td>\n",
              "      <td>@USER Sometimes I get strong vibes from people...</td>\n",
              "      <td>OFF</td>\n",
              "      <td>TIN</td>\n",
              "      <td>IND</td>\n",
              "      <td>OFF, TIN, IND</td>\n",
              "    </tr>\n",
              "    <tr>\n",
              "      <th>13236</th>\n",
              "      <td>67210</td>\n",
              "      <td>Benidorm ✅  Creamfields ✅  Maga ✅   Not too sh...</td>\n",
              "      <td>NOT</td>\n",
              "      <td>NaN</td>\n",
              "      <td>NaN</td>\n",
              "      <td>NOT</td>\n",
              "    </tr>\n",
              "    <tr>\n",
              "      <th>13237</th>\n",
              "      <td>82921</td>\n",
              "      <td>@USER And why report this garbage.  We don't g...</td>\n",
              "      <td>OFF</td>\n",
              "      <td>TIN</td>\n",
              "      <td>OTH</td>\n",
              "      <td>OFF, TIN, OTH</td>\n",
              "    </tr>\n",
              "    <tr>\n",
              "      <th>13238</th>\n",
              "      <td>27429</td>\n",
              "      <td>@USER Pussy</td>\n",
              "      <td>OFF</td>\n",
              "      <td>UNT</td>\n",
              "      <td>NaN</td>\n",
              "      <td>OFF, UNT</td>\n",
              "    </tr>\n",
              "    <tr>\n",
              "      <th>13239</th>\n",
              "      <td>46552</td>\n",
              "      <td>#Spanishrevenge vs. #justice #HumanRights and ...</td>\n",
              "      <td>NOT</td>\n",
              "      <td>NaN</td>\n",
              "      <td>NaN</td>\n",
              "      <td>NOT</td>\n",
              "    </tr>\n",
              "  </tbody>\n",
              "</table>\n",
              "<p>13240 rows × 6 columns</p>\n",
              "</div>"
            ],
            "text/plain": [
              "          id  ...   actual_label\n",
              "0      86426  ...       OFF, UNT\n",
              "1      90194  ...  OFF, TIN, IND\n",
              "2      16820  ...            NOT\n",
              "3      62688  ...       OFF, UNT\n",
              "4      43605  ...            NOT\n",
              "...      ...  ...            ...\n",
              "13235  95338  ...  OFF, TIN, IND\n",
              "13236  67210  ...            NOT\n",
              "13237  82921  ...  OFF, TIN, OTH\n",
              "13238  27429  ...       OFF, UNT\n",
              "13239  46552  ...            NOT\n",
              "\n",
              "[13240 rows x 6 columns]"
            ]
          },
          "metadata": {
            "tags": []
          },
          "execution_count": 7
        }
      ]
    },
    {
      "cell_type": "markdown",
      "metadata": {
        "id": "9sK_fZduKB5x",
        "colab_type": "text"
      },
      "source": [
        "Code to clean test data"
      ]
    },
    {
      "cell_type": "code",
      "metadata": {
        "id": "LhTmGuhYlgdR",
        "colab_type": "code",
        "colab": {
          "base_uri": "https://localhost:8080/",
          "height": 419
        },
        "outputId": "43693f50-1dfc-400c-9537-e0ecd840bcda"
      },
      "source": [
        "nlp = spacy.load(\"en_core_web_sm\")\n",
        "olidData = olidData.reset_index(drop=True)\n",
        "re_space = re.compile('[/(){}\\[\\]\\|@,;]')\n",
        "re_symbols = re.compile('[^0-9a-z #+_]')\n",
        "stop_words = set(stopwords.words('english'))\n",
        "re_user=re.compile('(?<=^|(?<=[^a-zA-Z0-9-_\\.]))@([A-Za-z]+[A-Za-z0-9-_]+)')\n",
        "\n",
        "def clean_text(text):\n",
        "    text=re_user.sub('Person', text)\n",
        "    lower = text.lower()\n",
        "    space_replace = re_space.sub(\" \",lower)\n",
        "    nosymb = re_symbols.sub(\"\",space_replace)\n",
        "    text = re.sub(r\"\\s*\\b(?:{})\\b\".format(\"|\".join(stop_words)), \"\", nosymb)\n",
        "    doc = nlp(text)\n",
        "    for entity in doc.ents:\n",
        "      if entity.label_==\"PERSON\" or entity.label_==\"NORP\" or entity.label_==\"ORG\" or entity.label_==\"GPE\":\n",
        "          text=text.replace(entity.text, entity.label_)\n",
        "    return re.sub(r\" {2,}\", \" \", text.strip())\n",
        "\n",
        "testData['tweet'] = testData['tweet'].apply(clean_text)\n",
        "testData"
      ],
      "execution_count": 8,
      "outputs": [
        {
          "output_type": "execute_result",
          "data": {
            "text/html": [
              "<div>\n",
              "<style scoped>\n",
              "    .dataframe tbody tr th:only-of-type {\n",
              "        vertical-align: middle;\n",
              "    }\n",
              "\n",
              "    .dataframe tbody tr th {\n",
              "        vertical-align: top;\n",
              "    }\n",
              "\n",
              "    .dataframe thead th {\n",
              "        text-align: right;\n",
              "    }\n",
              "</style>\n",
              "<table border=\"1\" class=\"dataframe\">\n",
              "  <thead>\n",
              "    <tr style=\"text-align: right;\">\n",
              "      <th></th>\n",
              "      <th>id</th>\n",
              "      <th>tweet</th>\n",
              "      <th>subtask_a</th>\n",
              "      <th>subtask_b</th>\n",
              "      <th>subtask_c</th>\n",
              "      <th>actual_label</th>\n",
              "    </tr>\n",
              "  </thead>\n",
              "  <tbody>\n",
              "    <tr>\n",
              "      <th>0</th>\n",
              "      <td>86426</td>\n",
              "      <td>person ask native americans take</td>\n",
              "      <td>OFF</td>\n",
              "      <td>UNT</td>\n",
              "      <td>NaN</td>\n",
              "      <td>OFF, UNT</td>\n",
              "    </tr>\n",
              "    <tr>\n",
              "      <th>1</th>\n",
              "      <td>90194</td>\n",
              "      <td>person person go home youre drunk person #maga...</td>\n",
              "      <td>OFF</td>\n",
              "      <td>TIN</td>\n",
              "      <td>IND</td>\n",
              "      <td>OFF, TIN, IND</td>\n",
              "    </tr>\n",
              "    <tr>\n",
              "      <th>2</th>\n",
              "      <td>16820</td>\n",
              "      <td>amazon investigating chinese employees selling...</td>\n",
              "      <td>NOT</td>\n",
              "      <td>NaN</td>\n",
              "      <td>NaN</td>\n",
              "      <td>NOT</td>\n",
              "    </tr>\n",
              "    <tr>\n",
              "      <th>3</th>\n",
              "      <td>62688</td>\n",
              "      <td>person someone shouldvetaken piece shit volcano</td>\n",
              "      <td>OFF</td>\n",
              "      <td>UNT</td>\n",
              "      <td>NaN</td>\n",
              "      <td>OFF, UNT</td>\n",
              "    </tr>\n",
              "    <tr>\n",
              "      <th>4</th>\n",
              "      <td>43605</td>\n",
              "      <td>person person obama wanted liberals amp illega...</td>\n",
              "      <td>NOT</td>\n",
              "      <td>NaN</td>\n",
              "      <td>NaN</td>\n",
              "      <td>NOT</td>\n",
              "    </tr>\n",
              "    <tr>\n",
              "      <th>...</th>\n",
              "      <td>...</td>\n",
              "      <td>...</td>\n",
              "      <td>...</td>\n",
              "      <td>...</td>\n",
              "      <td>...</td>\n",
              "      <td>...</td>\n",
              "    </tr>\n",
              "    <tr>\n",
              "      <th>13235</th>\n",
              "      <td>95338</td>\n",
              "      <td>person sometimes get strong vibes people mans ...</td>\n",
              "      <td>OFF</td>\n",
              "      <td>TIN</td>\n",
              "      <td>IND</td>\n",
              "      <td>OFF, TIN, IND</td>\n",
              "    </tr>\n",
              "    <tr>\n",
              "      <th>13236</th>\n",
              "      <td>67210</td>\n",
              "      <td>benidorm creamfields maga shabby summer</td>\n",
              "      <td>NOT</td>\n",
              "      <td>NaN</td>\n",
              "      <td>NaN</td>\n",
              "      <td>NOT</td>\n",
              "    </tr>\n",
              "    <tr>\n",
              "      <th>13237</th>\n",
              "      <td>82921</td>\n",
              "      <td>person report garbage dont give crap</td>\n",
              "      <td>OFF</td>\n",
              "      <td>TIN</td>\n",
              "      <td>OTH</td>\n",
              "      <td>OFF, TIN, OTH</td>\n",
              "    </tr>\n",
              "    <tr>\n",
              "      <th>13238</th>\n",
              "      <td>27429</td>\n",
              "      <td>person pussy</td>\n",
              "      <td>OFF</td>\n",
              "      <td>UNT</td>\n",
              "      <td>NaN</td>\n",
              "      <td>OFF, UNT</td>\n",
              "    </tr>\n",
              "    <tr>\n",
              "      <th>13239</th>\n",
              "      <td>46552</td>\n",
              "      <td>#spanishrevenge vs #justice #humanrights #free...</td>\n",
              "      <td>NOT</td>\n",
              "      <td>NaN</td>\n",
              "      <td>NaN</td>\n",
              "      <td>NOT</td>\n",
              "    </tr>\n",
              "  </tbody>\n",
              "</table>\n",
              "<p>13240 rows × 6 columns</p>\n",
              "</div>"
            ],
            "text/plain": [
              "          id  ...   actual_label\n",
              "0      86426  ...       OFF, UNT\n",
              "1      90194  ...  OFF, TIN, IND\n",
              "2      16820  ...            NOT\n",
              "3      62688  ...       OFF, UNT\n",
              "4      43605  ...            NOT\n",
              "...      ...  ...            ...\n",
              "13235  95338  ...  OFF, TIN, IND\n",
              "13236  67210  ...            NOT\n",
              "13237  82921  ...  OFF, TIN, OTH\n",
              "13238  27429  ...       OFF, UNT\n",
              "13239  46552  ...            NOT\n",
              "\n",
              "[13240 rows x 6 columns]"
            ]
          },
          "metadata": {
            "tags": []
          },
          "execution_count": 8
        }
      ]
    },
    {
      "cell_type": "markdown",
      "metadata": {
        "id": "mCuMPMVwKrTn",
        "colab_type": "text"
      },
      "source": [
        "Preparing and tokenizing test data for the model"
      ]
    },
    {
      "cell_type": "code",
      "metadata": {
        "id": "p6O2NkWSlvMQ",
        "colab_type": "code",
        "colab": {
          "base_uri": "https://localhost:8080/",
          "height": 68
        },
        "outputId": "b3c5bfc0-3d7b-4241-a838-0c0013fb855f"
      },
      "source": [
        "tokenizer = Tokenizer(num_words=maxWords, filters='!\"#$%&()*+,-./:;<=>?@[\\]^_`{|}~', lower=True)\n",
        "tokenizer.fit_on_texts(testData['tweet'])\n",
        "indexedWords = tokenizer.word_index\n",
        "print('Found %s unique tokens.' % len(indexedWords))\n",
        "\n",
        "\n",
        "X_test = tokenizer.texts_to_sequences(testData['tweet'].values)\n",
        "X_test = pad_sequences(X_test, maxlen=maxLength)\n",
        "print('Shape of data tensor:', X_test.shape)\n",
        "\n",
        "Y_test = pd.get_dummies(testData['actual_label'])\n",
        "print('Shape of label tensor:', Y_test.shape)"
      ],
      "execution_count": 9,
      "outputs": [
        {
          "output_type": "stream",
          "text": [
            "Found 20373 unique tokens.\n",
            "Shape of data tensor: (13240, 250)\n",
            "Shape of label tensor: (13240, 5)\n"
          ],
          "name": "stdout"
        }
      ]
    },
    {
      "cell_type": "markdown",
      "metadata": {
        "id": "vq2dDQpRK5HS",
        "colab_type": "text"
      },
      "source": [
        "Evaluation of test data and returning Loss,Accuracy,Precision,Recall and FScore for test data."
      ]
    },
    {
      "cell_type": "code",
      "metadata": {
        "id": "OoJj1tOfmaBi",
        "colab_type": "code",
        "colab": {
          "base_uri": "https://localhost:8080/",
          "height": 136
        },
        "outputId": "60439c32-7448-4a7c-ef4b-9ff3aaf6e61c"
      },
      "source": [
        "accr = neuralNetworkModel.evaluate(X_test,Y_test)\n",
        "print('Test set\\n  Loss: {:0.3f}\\n  Accuracy: {:0.3f}\\n  Precision: {:0.3f}\\n  Recall: {:0.3f}\\n  F1Score: {:0.3f}'.format(accr[0],accr[1],accr[2],accr[3],accr[4]))"
      ],
      "execution_count": 26,
      "outputs": [
        {
          "output_type": "stream",
          "text": [
            "13240/13240 [==============================] - 1s 44us/step\n",
            "Test set\n",
            "  Loss: 5.943\n",
            "  Accuracy: 0.629\n",
            "  Precision: 0.665\n",
            "  Recall: 0.938\n",
            "  F1Score: 0.778\n"
          ],
          "name": "stdout"
        }
      ]
    },
    {
      "cell_type": "code",
      "metadata": {
        "id": "_gEnyMi2mrdb",
        "colab_type": "code",
        "colab": {}
      },
      "source": [
        "import numpy as np\n",
        "\n",
        "def InsertPredictions(test_data,model):\n",
        "    lstNot=[]\n",
        "    lstOffGrp=[]\n",
        "    lstOffInd=[]\n",
        "    lstOffOth=[]\n",
        "    lstOffUnt=[]\n",
        "    lst=[\"NOT\",\"OFF, TIN, GRP\",\"OFF, TIN, IND\",\"OFF, TIN, OTH\",\"OFF, UNT\"]\n",
        "    dd=testData\n",
        "    lst_text = dd['tweet'].tolist()\n",
        "    y_prob = model.predict(test_data)\n",
        "    for prob in y_prob:\n",
        "      lstNot.append(prob[0])\n",
        "      lstOffGrp.append(prob[1])\n",
        "      lstOffInd.append(prob[2])\n",
        "      lstOffOth.append(prob[3])\n",
        "      lstOffUnt.append(prob[4])\n",
        "    y_classes = y_prob.argmax(axis=-1)\n",
        "    lst_classes=y_classes.tolist()\n",
        "    lst_predictions = [lst[i] for i in lst_classes]\n",
        "    lst_original=dd['actual_label'].tolist()\n",
        "    lst_prob=y_prob.tolist()\n",
        "    df = pd.DataFrame(lst_text,columns =['tweet'])\n",
        "    df['Original']=lst_original\n",
        "    df['Predictions']=lst_predictions\n",
        "    df['Not Off.']=lstNot\n",
        "    df['Off. Group']=lstOffGrp\n",
        "    df['Off. Ind.']=lstOffInd\n",
        "    df['Off. Others']=lstOffOth\n",
        "    df['Off. Untargeted']=lstOffUnt\n",
        "    lstSummary=[]\n",
        "    for index, row in df.iterrows():\n",
        "      if row['Original']==row['Predictions']:\n",
        "        lstSummary.append(1)\n",
        "      else:\n",
        "        lstSummary.append(0)\n",
        "    df['IsCorrect']=lstSummary\n",
        "    return df\n",
        "\n",
        "predicted=InsertPredictions(X_test,neuralNetworkModel)\n",
        "predicted\n"
      ],
      "execution_count": 0,
      "outputs": []
    },
    {
      "cell_type": "code",
      "metadata": {
        "id": "hmSuQIRQoBOS",
        "colab_type": "code",
        "colab": {}
      },
      "source": [
        "def calScores(frame):\n",
        "  lst=['NOT','OFF, TIN, GRP','OFF, TIN, IND','OFF, TIN, OTH','OFF, UNT']\n",
        "  lstFscore=[]\n",
        "  for item in lst:\n",
        "    tp=len(frame[(frame['IsCorrect']==1) & (frame['Predictions']==item)])\n",
        "    fp=len(frame[(frame['IsCorrect']==0) & (frame['Predictions']==item)])\n",
        "    #precision=tp/tp+fp\n",
        "    precision=tp/(tp+fp)\n",
        "    print(\"Precision for \"+item+\" : \"+str(precision))\n",
        "    fn=len(frame[(frame['Original']==item) & (frame['Predictions']!=item)])\n",
        "    recall=tp/(tp+fn)\n",
        "    print(\"Recall for \"+item+\" : \"+str(recall))\n",
        "    fScore=(2*precision*recall)/(precision+recall)\n",
        "    lstFscore.append(fScore)\n",
        "  return lstFscore\n",
        "\n",
        "\n",
        "lstFscore=calScores(predicted)\n"
      ],
      "execution_count": 0,
      "outputs": []
    },
    {
      "cell_type": "code",
      "metadata": {
        "id": "68ZAJjjwoT__",
        "colab_type": "code",
        "colab": {}
      },
      "source": [
        ""
      ],
      "execution_count": 0,
      "outputs": []
    },
    {
      "cell_type": "code",
      "metadata": {
        "id": "EzhiQKAntAl0",
        "colab_type": "code",
        "colab": {}
      },
      "source": [
        ""
      ],
      "execution_count": 0,
      "outputs": []
    }
  ]
}